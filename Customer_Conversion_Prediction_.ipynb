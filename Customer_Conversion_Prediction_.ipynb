{
  "nbformat": 4,
  "nbformat_minor": 0,
  "metadata": {
    "colab": {
      "provenance": [],
      "collapsed_sections": []
    },
    "kernelspec": {
      "name": "python3",
      "display_name": "Python 3"
    },
    "language_info": {
      "name": "python"
    }
  },
  "cells": [
    {
      "cell_type": "markdown",
      "source": [
        "#**IMPORTING REQUIRED PACKAGES**"
      ],
      "metadata": {
        "id": "oQ1QUANjD8eg"
      }
    },
    {
      "cell_type": "code",
      "source": [
        "!pip install imblearn"
      ],
      "metadata": {
        "colab": {
          "base_uri": "https://localhost:8080/"
        },
        "id": "b_NX2xwYOYtj",
        "outputId": "a94272c5-77ca-4302-c40d-2060224acb10"
      },
      "execution_count": null,
      "outputs": [
        {
          "output_type": "stream",
          "name": "stdout",
          "text": [
            "Looking in indexes: https://pypi.org/simple, https://us-python.pkg.dev/colab-wheels/public/simple/\n",
            "Requirement already satisfied: imblearn in /usr/local/lib/python3.7/dist-packages (0.0)\n",
            "Requirement already satisfied: imbalanced-learn in /usr/local/lib/python3.7/dist-packages (from imblearn) (0.8.1)\n",
            "Requirement already satisfied: numpy>=1.13.3 in /usr/local/lib/python3.7/dist-packages (from imbalanced-learn->imblearn) (1.21.6)\n",
            "Requirement already satisfied: scikit-learn>=0.24 in /usr/local/lib/python3.7/dist-packages (from imbalanced-learn->imblearn) (1.0.2)\n",
            "Requirement already satisfied: scipy>=0.19.1 in /usr/local/lib/python3.7/dist-packages (from imbalanced-learn->imblearn) (1.7.3)\n",
            "Requirement already satisfied: joblib>=0.11 in /usr/local/lib/python3.7/dist-packages (from imbalanced-learn->imblearn) (1.2.0)\n",
            "Requirement already satisfied: threadpoolctl>=2.0.0 in /usr/local/lib/python3.7/dist-packages (from scikit-learn>=0.24->imbalanced-learn->imblearn) (3.1.0)\n"
          ]
        }
      ]
    },
    {
      "cell_type": "code",
      "execution_count": null,
      "metadata": {
        "id": "PKIznKYzoELp"
      },
      "outputs": [],
      "source": [
        "import pandas as pd\n",
        "import matplotlib.pyplot as plt\n",
        "import seaborn as sns\n",
        "import numpy as np\n",
        "import imblearn\n",
        "import warnings\n",
        "warnings.filterwarnings('ignore')"
      ]
    },
    {
      "cell_type": "markdown",
      "source": [
        "#**DATA SET GLIMPSING**"
      ],
      "metadata": {
        "id": "ndPe_k5BECk8"
      }
    },
    {
      "cell_type": "code",
      "source": [
        "df=pd.read_csv(\"/content/Customer Conversion Prediction - Customer Conversion Prediction (2).csv\")\n",
        "df"
      ],
      "metadata": {
        "id": "YkKTWP8roofQ",
        "colab": {
          "base_uri": "https://localhost:8080/",
          "height": 424
        },
        "outputId": "98fa065e-7939-48e1-a54b-c6e9ac87fb7b"
      },
      "execution_count": null,
      "outputs": [
        {
          "output_type": "execute_result",
          "data": {
            "text/plain": [
              "       age           job   marital education_qual  call_type  day  mon   dur  \\\n",
              "0       58    management   married       tertiary    unknown    5  may   261   \n",
              "1       44    technician    single      secondary    unknown    5  may   151   \n",
              "2       33  entrepreneur   married      secondary    unknown    5  may    76   \n",
              "3       47   blue-collar   married        unknown    unknown    5  may    92   \n",
              "4       33       unknown    single        unknown    unknown    5  may   198   \n",
              "...    ...           ...       ...            ...        ...  ...  ...   ...   \n",
              "45206   51    technician   married       tertiary   cellular   17  nov   977   \n",
              "45207   71       retired  divorced        primary   cellular   17  nov   456   \n",
              "45208   72       retired   married      secondary   cellular   17  nov  1127   \n",
              "45209   57   blue-collar   married      secondary  telephone   17  nov   508   \n",
              "45210   37  entrepreneur   married      secondary   cellular   17  nov   361   \n",
              "\n",
              "       num_calls prev_outcome    y  \n",
              "0              1      unknown   no  \n",
              "1              1      unknown   no  \n",
              "2              1      unknown   no  \n",
              "3              1      unknown   no  \n",
              "4              1      unknown   no  \n",
              "...          ...          ...  ...  \n",
              "45206          3      unknown  yes  \n",
              "45207          2      unknown  yes  \n",
              "45208          5      success  yes  \n",
              "45209          4      unknown   no  \n",
              "45210          2        other   no  \n",
              "\n",
              "[45211 rows x 11 columns]"
            ],
            "text/html": [
              "\n",
              "  <div id=\"df-04c24e0b-0731-4990-987a-ef4d58c67855\">\n",
              "    <div class=\"colab-df-container\">\n",
              "      <div>\n",
              "<style scoped>\n",
              "    .dataframe tbody tr th:only-of-type {\n",
              "        vertical-align: middle;\n",
              "    }\n",
              "\n",
              "    .dataframe tbody tr th {\n",
              "        vertical-align: top;\n",
              "    }\n",
              "\n",
              "    .dataframe thead th {\n",
              "        text-align: right;\n",
              "    }\n",
              "</style>\n",
              "<table border=\"1\" class=\"dataframe\">\n",
              "  <thead>\n",
              "    <tr style=\"text-align: right;\">\n",
              "      <th></th>\n",
              "      <th>age</th>\n",
              "      <th>job</th>\n",
              "      <th>marital</th>\n",
              "      <th>education_qual</th>\n",
              "      <th>call_type</th>\n",
              "      <th>day</th>\n",
              "      <th>mon</th>\n",
              "      <th>dur</th>\n",
              "      <th>num_calls</th>\n",
              "      <th>prev_outcome</th>\n",
              "      <th>y</th>\n",
              "    </tr>\n",
              "  </thead>\n",
              "  <tbody>\n",
              "    <tr>\n",
              "      <th>0</th>\n",
              "      <td>58</td>\n",
              "      <td>management</td>\n",
              "      <td>married</td>\n",
              "      <td>tertiary</td>\n",
              "      <td>unknown</td>\n",
              "      <td>5</td>\n",
              "      <td>may</td>\n",
              "      <td>261</td>\n",
              "      <td>1</td>\n",
              "      <td>unknown</td>\n",
              "      <td>no</td>\n",
              "    </tr>\n",
              "    <tr>\n",
              "      <th>1</th>\n",
              "      <td>44</td>\n",
              "      <td>technician</td>\n",
              "      <td>single</td>\n",
              "      <td>secondary</td>\n",
              "      <td>unknown</td>\n",
              "      <td>5</td>\n",
              "      <td>may</td>\n",
              "      <td>151</td>\n",
              "      <td>1</td>\n",
              "      <td>unknown</td>\n",
              "      <td>no</td>\n",
              "    </tr>\n",
              "    <tr>\n",
              "      <th>2</th>\n",
              "      <td>33</td>\n",
              "      <td>entrepreneur</td>\n",
              "      <td>married</td>\n",
              "      <td>secondary</td>\n",
              "      <td>unknown</td>\n",
              "      <td>5</td>\n",
              "      <td>may</td>\n",
              "      <td>76</td>\n",
              "      <td>1</td>\n",
              "      <td>unknown</td>\n",
              "      <td>no</td>\n",
              "    </tr>\n",
              "    <tr>\n",
              "      <th>3</th>\n",
              "      <td>47</td>\n",
              "      <td>blue-collar</td>\n",
              "      <td>married</td>\n",
              "      <td>unknown</td>\n",
              "      <td>unknown</td>\n",
              "      <td>5</td>\n",
              "      <td>may</td>\n",
              "      <td>92</td>\n",
              "      <td>1</td>\n",
              "      <td>unknown</td>\n",
              "      <td>no</td>\n",
              "    </tr>\n",
              "    <tr>\n",
              "      <th>4</th>\n",
              "      <td>33</td>\n",
              "      <td>unknown</td>\n",
              "      <td>single</td>\n",
              "      <td>unknown</td>\n",
              "      <td>unknown</td>\n",
              "      <td>5</td>\n",
              "      <td>may</td>\n",
              "      <td>198</td>\n",
              "      <td>1</td>\n",
              "      <td>unknown</td>\n",
              "      <td>no</td>\n",
              "    </tr>\n",
              "    <tr>\n",
              "      <th>...</th>\n",
              "      <td>...</td>\n",
              "      <td>...</td>\n",
              "      <td>...</td>\n",
              "      <td>...</td>\n",
              "      <td>...</td>\n",
              "      <td>...</td>\n",
              "      <td>...</td>\n",
              "      <td>...</td>\n",
              "      <td>...</td>\n",
              "      <td>...</td>\n",
              "      <td>...</td>\n",
              "    </tr>\n",
              "    <tr>\n",
              "      <th>45206</th>\n",
              "      <td>51</td>\n",
              "      <td>technician</td>\n",
              "      <td>married</td>\n",
              "      <td>tertiary</td>\n",
              "      <td>cellular</td>\n",
              "      <td>17</td>\n",
              "      <td>nov</td>\n",
              "      <td>977</td>\n",
              "      <td>3</td>\n",
              "      <td>unknown</td>\n",
              "      <td>yes</td>\n",
              "    </tr>\n",
              "    <tr>\n",
              "      <th>45207</th>\n",
              "      <td>71</td>\n",
              "      <td>retired</td>\n",
              "      <td>divorced</td>\n",
              "      <td>primary</td>\n",
              "      <td>cellular</td>\n",
              "      <td>17</td>\n",
              "      <td>nov</td>\n",
              "      <td>456</td>\n",
              "      <td>2</td>\n",
              "      <td>unknown</td>\n",
              "      <td>yes</td>\n",
              "    </tr>\n",
              "    <tr>\n",
              "      <th>45208</th>\n",
              "      <td>72</td>\n",
              "      <td>retired</td>\n",
              "      <td>married</td>\n",
              "      <td>secondary</td>\n",
              "      <td>cellular</td>\n",
              "      <td>17</td>\n",
              "      <td>nov</td>\n",
              "      <td>1127</td>\n",
              "      <td>5</td>\n",
              "      <td>success</td>\n",
              "      <td>yes</td>\n",
              "    </tr>\n",
              "    <tr>\n",
              "      <th>45209</th>\n",
              "      <td>57</td>\n",
              "      <td>blue-collar</td>\n",
              "      <td>married</td>\n",
              "      <td>secondary</td>\n",
              "      <td>telephone</td>\n",
              "      <td>17</td>\n",
              "      <td>nov</td>\n",
              "      <td>508</td>\n",
              "      <td>4</td>\n",
              "      <td>unknown</td>\n",
              "      <td>no</td>\n",
              "    </tr>\n",
              "    <tr>\n",
              "      <th>45210</th>\n",
              "      <td>37</td>\n",
              "      <td>entrepreneur</td>\n",
              "      <td>married</td>\n",
              "      <td>secondary</td>\n",
              "      <td>cellular</td>\n",
              "      <td>17</td>\n",
              "      <td>nov</td>\n",
              "      <td>361</td>\n",
              "      <td>2</td>\n",
              "      <td>other</td>\n",
              "      <td>no</td>\n",
              "    </tr>\n",
              "  </tbody>\n",
              "</table>\n",
              "<p>45211 rows × 11 columns</p>\n",
              "</div>\n",
              "      <button class=\"colab-df-convert\" onclick=\"convertToInteractive('df-04c24e0b-0731-4990-987a-ef4d58c67855')\"\n",
              "              title=\"Convert this dataframe to an interactive table.\"\n",
              "              style=\"display:none;\">\n",
              "        \n",
              "  <svg xmlns=\"http://www.w3.org/2000/svg\" height=\"24px\"viewBox=\"0 0 24 24\"\n",
              "       width=\"24px\">\n",
              "    <path d=\"M0 0h24v24H0V0z\" fill=\"none\"/>\n",
              "    <path d=\"M18.56 5.44l.94 2.06.94-2.06 2.06-.94-2.06-.94-.94-2.06-.94 2.06-2.06.94zm-11 1L8.5 8.5l.94-2.06 2.06-.94-2.06-.94L8.5 2.5l-.94 2.06-2.06.94zm10 10l.94 2.06.94-2.06 2.06-.94-2.06-.94-.94-2.06-.94 2.06-2.06.94z\"/><path d=\"M17.41 7.96l-1.37-1.37c-.4-.4-.92-.59-1.43-.59-.52 0-1.04.2-1.43.59L10.3 9.45l-7.72 7.72c-.78.78-.78 2.05 0 2.83L4 21.41c.39.39.9.59 1.41.59.51 0 1.02-.2 1.41-.59l7.78-7.78 2.81-2.81c.8-.78.8-2.07 0-2.86zM5.41 20L4 18.59l7.72-7.72 1.47 1.35L5.41 20z\"/>\n",
              "  </svg>\n",
              "      </button>\n",
              "      \n",
              "  <style>\n",
              "    .colab-df-container {\n",
              "      display:flex;\n",
              "      flex-wrap:wrap;\n",
              "      gap: 12px;\n",
              "    }\n",
              "\n",
              "    .colab-df-convert {\n",
              "      background-color: #E8F0FE;\n",
              "      border: none;\n",
              "      border-radius: 50%;\n",
              "      cursor: pointer;\n",
              "      display: none;\n",
              "      fill: #1967D2;\n",
              "      height: 32px;\n",
              "      padding: 0 0 0 0;\n",
              "      width: 32px;\n",
              "    }\n",
              "\n",
              "    .colab-df-convert:hover {\n",
              "      background-color: #E2EBFA;\n",
              "      box-shadow: 0px 1px 2px rgba(60, 64, 67, 0.3), 0px 1px 3px 1px rgba(60, 64, 67, 0.15);\n",
              "      fill: #174EA6;\n",
              "    }\n",
              "\n",
              "    [theme=dark] .colab-df-convert {\n",
              "      background-color: #3B4455;\n",
              "      fill: #D2E3FC;\n",
              "    }\n",
              "\n",
              "    [theme=dark] .colab-df-convert:hover {\n",
              "      background-color: #434B5C;\n",
              "      box-shadow: 0px 1px 3px 1px rgba(0, 0, 0, 0.15);\n",
              "      filter: drop-shadow(0px 1px 2px rgba(0, 0, 0, 0.3));\n",
              "      fill: #FFFFFF;\n",
              "    }\n",
              "  </style>\n",
              "\n",
              "      <script>\n",
              "        const buttonEl =\n",
              "          document.querySelector('#df-04c24e0b-0731-4990-987a-ef4d58c67855 button.colab-df-convert');\n",
              "        buttonEl.style.display =\n",
              "          google.colab.kernel.accessAllowed ? 'block' : 'none';\n",
              "\n",
              "        async function convertToInteractive(key) {\n",
              "          const element = document.querySelector('#df-04c24e0b-0731-4990-987a-ef4d58c67855');\n",
              "          const dataTable =\n",
              "            await google.colab.kernel.invokeFunction('convertToInteractive',\n",
              "                                                     [key], {});\n",
              "          if (!dataTable) return;\n",
              "\n",
              "          const docLinkHtml = 'Like what you see? Visit the ' +\n",
              "            '<a target=\"_blank\" href=https://colab.research.google.com/notebooks/data_table.ipynb>data table notebook</a>'\n",
              "            + ' to learn more about interactive tables.';\n",
              "          element.innerHTML = '';\n",
              "          dataTable['output_type'] = 'display_data';\n",
              "          await google.colab.output.renderOutput(dataTable, element);\n",
              "          const docLink = document.createElement('div');\n",
              "          docLink.innerHTML = docLinkHtml;\n",
              "          element.appendChild(docLink);\n",
              "        }\n",
              "      </script>\n",
              "    </div>\n",
              "  </div>\n",
              "  "
            ]
          },
          "metadata": {},
          "execution_count": 5
        }
      ]
    },
    {
      "cell_type": "markdown",
      "source": [
        "#**DATA CLEANING**"
      ],
      "metadata": {
        "id": "YpymlEXrFFq9"
      }
    },
    {
      "cell_type": "code",
      "source": [
        "df=df.drop_duplicates()"
      ],
      "metadata": {
        "id": "83KhAtlxwGOM"
      },
      "execution_count": null,
      "outputs": []
    },
    {
      "cell_type": "code",
      "source": [
        "df.info()"
      ],
      "metadata": {
        "id": "sVwQNtshpC2U",
        "colab": {
          "base_uri": "https://localhost:8080/"
        },
        "outputId": "50233b09-5425-4d98-d2a8-a8829333dd4e"
      },
      "execution_count": null,
      "outputs": [
        {
          "output_type": "stream",
          "name": "stdout",
          "text": [
            "<class 'pandas.core.frame.DataFrame'>\n",
            "Int64Index: 45205 entries, 0 to 45210\n",
            "Data columns (total 11 columns):\n",
            " #   Column          Non-Null Count  Dtype \n",
            "---  ------          --------------  ----- \n",
            " 0   age             45205 non-null  int64 \n",
            " 1   job             45205 non-null  object\n",
            " 2   marital         45205 non-null  object\n",
            " 3   education_qual  45205 non-null  object\n",
            " 4   call_type       45205 non-null  object\n",
            " 5   day             45205 non-null  int64 \n",
            " 6   mon             45205 non-null  object\n",
            " 7   dur             45205 non-null  int64 \n",
            " 8   num_calls       45205 non-null  int64 \n",
            " 9   prev_outcome    45205 non-null  object\n",
            " 10  y               45205 non-null  object\n",
            "dtypes: int64(4), object(7)\n",
            "memory usage: 4.1+ MB\n"
          ]
        }
      ]
    },
    {
      "cell_type": "code",
      "source": [
        "df.describe(include='object')"
      ],
      "metadata": {
        "id": "p6fIdxTT64Hz",
        "colab": {
          "base_uri": "https://localhost:8080/",
          "height": 175
        },
        "outputId": "a93a3694-e10f-416c-949c-61210afe8ddb"
      },
      "execution_count": null,
      "outputs": [
        {
          "output_type": "execute_result",
          "data": {
            "text/plain": [
              "                job  marital education_qual call_type    mon prev_outcome  \\\n",
              "count         45205    45205          45205     45205  45205        45205   \n",
              "unique           12        3              4         3     12            4   \n",
              "top     blue-collar  married      secondary  cellular    may      unknown   \n",
              "freq           9730    27210          23199     29282  13765        36953   \n",
              "\n",
              "            y  \n",
              "count   45205  \n",
              "unique      2  \n",
              "top        no  \n",
              "freq    39916  "
            ],
            "text/html": [
              "\n",
              "  <div id=\"df-f0951f5c-5b04-4bc0-9d21-bdcb64567321\">\n",
              "    <div class=\"colab-df-container\">\n",
              "      <div>\n",
              "<style scoped>\n",
              "    .dataframe tbody tr th:only-of-type {\n",
              "        vertical-align: middle;\n",
              "    }\n",
              "\n",
              "    .dataframe tbody tr th {\n",
              "        vertical-align: top;\n",
              "    }\n",
              "\n",
              "    .dataframe thead th {\n",
              "        text-align: right;\n",
              "    }\n",
              "</style>\n",
              "<table border=\"1\" class=\"dataframe\">\n",
              "  <thead>\n",
              "    <tr style=\"text-align: right;\">\n",
              "      <th></th>\n",
              "      <th>job</th>\n",
              "      <th>marital</th>\n",
              "      <th>education_qual</th>\n",
              "      <th>call_type</th>\n",
              "      <th>mon</th>\n",
              "      <th>prev_outcome</th>\n",
              "      <th>y</th>\n",
              "    </tr>\n",
              "  </thead>\n",
              "  <tbody>\n",
              "    <tr>\n",
              "      <th>count</th>\n",
              "      <td>45205</td>\n",
              "      <td>45205</td>\n",
              "      <td>45205</td>\n",
              "      <td>45205</td>\n",
              "      <td>45205</td>\n",
              "      <td>45205</td>\n",
              "      <td>45205</td>\n",
              "    </tr>\n",
              "    <tr>\n",
              "      <th>unique</th>\n",
              "      <td>12</td>\n",
              "      <td>3</td>\n",
              "      <td>4</td>\n",
              "      <td>3</td>\n",
              "      <td>12</td>\n",
              "      <td>4</td>\n",
              "      <td>2</td>\n",
              "    </tr>\n",
              "    <tr>\n",
              "      <th>top</th>\n",
              "      <td>blue-collar</td>\n",
              "      <td>married</td>\n",
              "      <td>secondary</td>\n",
              "      <td>cellular</td>\n",
              "      <td>may</td>\n",
              "      <td>unknown</td>\n",
              "      <td>no</td>\n",
              "    </tr>\n",
              "    <tr>\n",
              "      <th>freq</th>\n",
              "      <td>9730</td>\n",
              "      <td>27210</td>\n",
              "      <td>23199</td>\n",
              "      <td>29282</td>\n",
              "      <td>13765</td>\n",
              "      <td>36953</td>\n",
              "      <td>39916</td>\n",
              "    </tr>\n",
              "  </tbody>\n",
              "</table>\n",
              "</div>\n",
              "      <button class=\"colab-df-convert\" onclick=\"convertToInteractive('df-f0951f5c-5b04-4bc0-9d21-bdcb64567321')\"\n",
              "              title=\"Convert this dataframe to an interactive table.\"\n",
              "              style=\"display:none;\">\n",
              "        \n",
              "  <svg xmlns=\"http://www.w3.org/2000/svg\" height=\"24px\"viewBox=\"0 0 24 24\"\n",
              "       width=\"24px\">\n",
              "    <path d=\"M0 0h24v24H0V0z\" fill=\"none\"/>\n",
              "    <path d=\"M18.56 5.44l.94 2.06.94-2.06 2.06-.94-2.06-.94-.94-2.06-.94 2.06-2.06.94zm-11 1L8.5 8.5l.94-2.06 2.06-.94-2.06-.94L8.5 2.5l-.94 2.06-2.06.94zm10 10l.94 2.06.94-2.06 2.06-.94-2.06-.94-.94-2.06-.94 2.06-2.06.94z\"/><path d=\"M17.41 7.96l-1.37-1.37c-.4-.4-.92-.59-1.43-.59-.52 0-1.04.2-1.43.59L10.3 9.45l-7.72 7.72c-.78.78-.78 2.05 0 2.83L4 21.41c.39.39.9.59 1.41.59.51 0 1.02-.2 1.41-.59l7.78-7.78 2.81-2.81c.8-.78.8-2.07 0-2.86zM5.41 20L4 18.59l7.72-7.72 1.47 1.35L5.41 20z\"/>\n",
              "  </svg>\n",
              "      </button>\n",
              "      \n",
              "  <style>\n",
              "    .colab-df-container {\n",
              "      display:flex;\n",
              "      flex-wrap:wrap;\n",
              "      gap: 12px;\n",
              "    }\n",
              "\n",
              "    .colab-df-convert {\n",
              "      background-color: #E8F0FE;\n",
              "      border: none;\n",
              "      border-radius: 50%;\n",
              "      cursor: pointer;\n",
              "      display: none;\n",
              "      fill: #1967D2;\n",
              "      height: 32px;\n",
              "      padding: 0 0 0 0;\n",
              "      width: 32px;\n",
              "    }\n",
              "\n",
              "    .colab-df-convert:hover {\n",
              "      background-color: #E2EBFA;\n",
              "      box-shadow: 0px 1px 2px rgba(60, 64, 67, 0.3), 0px 1px 3px 1px rgba(60, 64, 67, 0.15);\n",
              "      fill: #174EA6;\n",
              "    }\n",
              "\n",
              "    [theme=dark] .colab-df-convert {\n",
              "      background-color: #3B4455;\n",
              "      fill: #D2E3FC;\n",
              "    }\n",
              "\n",
              "    [theme=dark] .colab-df-convert:hover {\n",
              "      background-color: #434B5C;\n",
              "      box-shadow: 0px 1px 3px 1px rgba(0, 0, 0, 0.15);\n",
              "      filter: drop-shadow(0px 1px 2px rgba(0, 0, 0, 0.3));\n",
              "      fill: #FFFFFF;\n",
              "    }\n",
              "  </style>\n",
              "\n",
              "      <script>\n",
              "        const buttonEl =\n",
              "          document.querySelector('#df-f0951f5c-5b04-4bc0-9d21-bdcb64567321 button.colab-df-convert');\n",
              "        buttonEl.style.display =\n",
              "          google.colab.kernel.accessAllowed ? 'block' : 'none';\n",
              "\n",
              "        async function convertToInteractive(key) {\n",
              "          const element = document.querySelector('#df-f0951f5c-5b04-4bc0-9d21-bdcb64567321');\n",
              "          const dataTable =\n",
              "            await google.colab.kernel.invokeFunction('convertToInteractive',\n",
              "                                                     [key], {});\n",
              "          if (!dataTable) return;\n",
              "\n",
              "          const docLinkHtml = 'Like what you see? Visit the ' +\n",
              "            '<a target=\"_blank\" href=https://colab.research.google.com/notebooks/data_table.ipynb>data table notebook</a>'\n",
              "            + ' to learn more about interactive tables.';\n",
              "          element.innerHTML = '';\n",
              "          dataTable['output_type'] = 'display_data';\n",
              "          await google.colab.output.renderOutput(dataTable, element);\n",
              "          const docLink = document.createElement('div');\n",
              "          docLink.innerHTML = docLinkHtml;\n",
              "          element.appendChild(docLink);\n",
              "        }\n",
              "      </script>\n",
              "    </div>\n",
              "  </div>\n",
              "  "
            ]
          },
          "metadata": {},
          "execution_count": 8
        }
      ]
    },
    {
      "cell_type": "code",
      "source": [
        "df.isnull().sum()"
      ],
      "metadata": {
        "id": "oCKrVT6GpEVM",
        "colab": {
          "base_uri": "https://localhost:8080/"
        },
        "outputId": "6b9386bd-efbf-4af1-8aaf-081fd5f2f876"
      },
      "execution_count": null,
      "outputs": [
        {
          "output_type": "execute_result",
          "data": {
            "text/plain": [
              "age               0\n",
              "job               0\n",
              "marital           0\n",
              "education_qual    0\n",
              "call_type         0\n",
              "day               0\n",
              "mon               0\n",
              "dur               0\n",
              "num_calls         0\n",
              "prev_outcome      0\n",
              "y                 0\n",
              "dtype: int64"
            ]
          },
          "metadata": {},
          "execution_count": 9
        }
      ]
    },
    {
      "cell_type": "code",
      "source": [
        "sns.boxplot(df['age'])"
      ],
      "metadata": {
        "id": "MInE65Wl84cD",
        "colab": {
          "base_uri": "https://localhost:8080/",
          "height": 296
        },
        "outputId": "e9e0007b-dd2c-4d35-86e5-b4209a22e690"
      },
      "execution_count": null,
      "outputs": [
        {
          "output_type": "execute_result",
          "data": {
            "text/plain": [
              "<matplotlib.axes._subplots.AxesSubplot at 0x7fdf0af73dd0>"
            ]
          },
          "metadata": {},
          "execution_count": 10
        },
        {
          "output_type": "display_data",
          "data": {
            "text/plain": [
              "<Figure size 432x288 with 1 Axes>"
            ],
            "image/png": "[encoded data removed]"
          },
          "metadata": {
            "needs_background": "light"
          }
        }
      ]
    },
    {
      "cell_type": "code",
      "source": [
        "percentile25 = df['age'].quantile(0.25)\n",
        "percentile75 = df['age'].quantile(0.75)\n",
        "print(\"25th percentile of the data is \",percentile25)\n",
        "print(\"75th percentile of the data is \",percentile75)\n",
        "print(\"IQR :\", percentile75-percentile25)"
      ],
      "metadata": {
        "id": "hV6ro28d-HiN",
        "colab": {
          "base_uri": "https://localhost:8080/"
        },
        "outputId": "684b2861-49b4-44ed-f2a2-1882f8b1677a"
      },
      "execution_count": null,
      "outputs": [
        {
          "output_type": "stream",
          "name": "stdout",
          "text": [
            "25th percentile of the data is  33.0\n",
            "75th percentile of the data is  48.0\n",
            "IQR : 15.0\n"
          ]
        }
      ]
    },
    {
      "cell_type": "code",
      "source": [
        "max_value = percentile75 + 1.5 * (percentile75-percentile25)\n",
        "min_value = percentile25 - 1.5 * (percentile75-percentile25)\n",
        "print(max_value)\n",
        "print(min_value)"
      ],
      "metadata": {
        "id": "pdHEmUqT-Zzk",
        "colab": {
          "base_uri": "https://localhost:8080/"
        },
        "outputId": "555167d2-1dfe-4f0f-c07c-777cdb9087a0"
      },
      "execution_count": null,
      "outputs": [
        {
          "output_type": "stream",
          "name": "stdout",
          "text": [
            "70.5\n",
            "10.5\n"
          ]
        }
      ]
    },
    {
      "cell_type": "code",
      "source": [
        "df['age'] = np.where(\n",
        "    df['age']>max_value,\n",
        "    max_value,\n",
        "    np.where(\n",
        "        df['age']<min_value,\n",
        "        min_value,\n",
        "        df['age']\n",
        "    ) \n",
        ")\n",
        "df['age'].describe()"
      ],
      "metadata": {
        "id": "cP2dsB_P-mlQ",
        "colab": {
          "base_uri": "https://localhost:8080/"
        },
        "outputId": "8bdaeead-ea0c-4980-ddbd-d279dd223ffa"
      },
      "execution_count": null,
      "outputs": [
        {
          "output_type": "execute_result",
          "data": {
            "text/plain": [
              "count    45205.000000\n",
              "mean        40.869052\n",
              "std         10.395247\n",
              "min         18.000000\n",
              "25%         33.000000\n",
              "50%         39.000000\n",
              "75%         48.000000\n",
              "max         70.500000\n",
              "Name: age, dtype: float64"
            ]
          },
          "metadata": {},
          "execution_count": 13
        }
      ]
    },
    {
      "cell_type": "code",
      "source": [
        "sns.boxplot(df['dur'])"
      ],
      "metadata": {
        "id": "bWmHNAEi_S85",
        "colab": {
          "base_uri": "https://localhost:8080/",
          "height": 296
        },
        "outputId": "ca4176aa-73a9-49bf-c968-c6b0776754c9"
      },
      "execution_count": null,
      "outputs": [
        {
          "output_type": "execute_result",
          "data": {
            "text/plain": [
              "<matplotlib.axes._subplots.AxesSubplot at 0x7fdf08ebfe10>"
            ]
          },
          "metadata": {},
          "execution_count": 14
        },
        {
          "output_type": "display_data",
          "data": {
            "text/plain": [
              "<Figure size 432x288 with 1 Axes>"
            ],
            "image/png": "[encoded data removed]"
          },
          "metadata": {
            "needs_background": "light"
          }
        }
      ]
    },
    {
      "cell_type": "code",
      "source": [
        "percentile25 = df['dur'].quantile(0.25)\n",
        "percentile75 = df['dur'].quantile(0.75)\n",
        "print(\"25th percentile of the data is \",percentile25)\n",
        "print(\"75th percentile of the data is \",percentile75)\n",
        "print(\"IQR :\", percentile75-percentile25)\n",
        "max_value = percentile75 + 1.5 * (percentile75-percentile25)\n",
        "min_value = percentile25 - 1.5 * (percentile75-percentile25)\n",
        "print(max_value)\n",
        "print(min_value)\n",
        "df['dur'] = np.where(\n",
        "    df['dur']>max_value,\n",
        "    max_value,\n",
        "    np.where(\n",
        "        df['dur']<min_value,\n",
        "        min_value,\n",
        "        df['dur']\n",
        "    ) \n",
        ")\n",
        "df['dur'].describe()"
      ],
      "metadata": {
        "id": "naKnUFWe_fD1",
        "colab": {
          "base_uri": "https://localhost:8080/"
        },
        "outputId": "fd942f9b-82aa-42b0-e596-79df3b7a6ab6"
      },
      "execution_count": null,
      "outputs": [
        {
          "output_type": "stream",
          "name": "stdout",
          "text": [
            "25th percentile of the data is  103.0\n",
            "75th percentile of the data is  319.0\n",
            "IQR : 216.0\n",
            "643.0\n",
            "-221.0\n"
          ]
        },
        {
          "output_type": "execute_result",
          "data": {
            "text/plain": [
              "count    45205.00000\n",
              "mean       234.95620\n",
              "std        176.75476\n",
              "min          0.00000\n",
              "25%        103.00000\n",
              "50%        180.00000\n",
              "75%        319.00000\n",
              "max        643.00000\n",
              "Name: dur, dtype: float64"
            ]
          },
          "metadata": {},
          "execution_count": 15
        }
      ]
    },
    {
      "cell_type": "code",
      "source": [
        "sns.boxplot(df['num_calls'])"
      ],
      "metadata": {
        "id": "oszfu8H9_72n",
        "colab": {
          "base_uri": "https://localhost:8080/",
          "height": 297
        },
        "outputId": "cefea091-3819-4cc8-cc9c-10540fb822d5"
      },
      "execution_count": null,
      "outputs": [
        {
          "output_type": "execute_result",
          "data": {
            "text/plain": [
              "<matplotlib.axes._subplots.AxesSubplot at 0x7fdf08a1f290>"
            ]
          },
          "metadata": {},
          "execution_count": 16
        },
        {
          "output_type": "display_data",
          "data": {
            "text/plain": [
              "<Figure size 432x288 with 1 Axes>"
            ],
            "image/png": "[encoded data removed]"
          },
          "metadata": {
            "needs_background": "light"
          }
        }
      ]
    },
    {
      "cell_type": "code",
      "source": [
        "percentile25 = df['num_calls'].quantile(0.25)\n",
        "percentile75 = df['num_calls'].quantile(0.75)\n",
        "print(\"25th percentile of the data is \",percentile25)\n",
        "print(\"75th percentile of the data is \",percentile75)\n",
        "print(\"IQR :\", percentile75-percentile25)\n",
        "max_value = percentile75 + 1.5 * (percentile75-percentile25)\n",
        "min_value = percentile25 - 1.5 * (percentile75-percentile25)\n",
        "print(max_value)\n",
        "print(min_value)\n",
        "df['num_calls'] = np.where(\n",
        "    df['num_calls']>max_value,\n",
        "    max_value,\n",
        "    np.where(\n",
        "        df['num_calls']<min_value,\n",
        "        min_value,\n",
        "        df['num_calls']\n",
        "    ) \n",
        ")\n",
        "df['num_calls'].describe()"
      ],
      "metadata": {
        "id": "e7dFrsHqAKIw",
        "colab": {
          "base_uri": "https://localhost:8080/"
        },
        "outputId": "df823569-887a-47ad-d721-22137606e39a"
      },
      "execution_count": null,
      "outputs": [
        {
          "output_type": "stream",
          "name": "stdout",
          "text": [
            "25th percentile of the data is  1.0\n",
            "75th percentile of the data is  3.0\n",
            "IQR : 2.0\n",
            "6.0\n",
            "-2.0\n"
          ]
        },
        {
          "output_type": "execute_result",
          "data": {
            "text/plain": [
              "count    45205.000000\n",
              "mean         2.392235\n",
              "std          1.600152\n",
              "min          1.000000\n",
              "25%          1.000000\n",
              "50%          2.000000\n",
              "75%          3.000000\n",
              "max          6.000000\n",
              "Name: num_calls, dtype: float64"
            ]
          },
          "metadata": {},
          "execution_count": 17
        }
      ]
    },
    {
      "cell_type": "markdown",
      "source": [
        "#**EXPLORATORY DATA ANALYSIS**"
      ],
      "metadata": {
        "id": "dmVWh1SxFnDJ"
      }
    },
    {
      "cell_type": "markdown",
      "source": [
        "CONTINUOUS DATA"
      ],
      "metadata": {
        "id": "PEtsk6dsCzpD"
      }
    },
    {
      "cell_type": "code",
      "source": [
        "df.y.value_counts().plot(kind='pie',autopct='%1.1f%%')"
      ],
      "metadata": {
        "id": "rIWW5mySyacB",
        "colab": {
          "base_uri": "https://localhost:8080/",
          "height": 265
        },
        "outputId": "3d07a0d3-d5b5-4ed7-e3aa-3cb49793d702"
      },
      "execution_count": null,
      "outputs": [
        {
          "output_type": "execute_result",
          "data": {
            "text/plain": [
              "<matplotlib.axes._subplots.AxesSubplot at 0x7fdf09227850>"
            ]
          },
          "metadata": {},
          "execution_count": 18
        },
        {
          "output_type": "display_data",
          "data": {
            "text/plain": [
              "<Figure size 432x288 with 1 Axes>"
            ],
            "image/png": "[encoded data removed]"
          },
          "metadata": {}
        }
      ]
    },
    {
      "cell_type": "markdown",
      "source": [
        "Above plot shows the dataset belongs to the class of onetype(i.e no)is maximum(88.3%).So highly imbalanced data need to balanced."
      ],
      "metadata": {
        "id": "R8LhtqJxGGOL"
      }
    },
    {
      "cell_type": "code",
      "source": [
        "plt.figure(figsize=(8,6))\n",
        "sns.kdeplot(data=df, x=\"age\",hue='y')"
      ],
      "metadata": {
        "id": "MtsiR0y6H4h5",
        "colab": {
          "base_uri": "https://localhost:8080/",
          "height": 405
        },
        "outputId": "40ef7a0c-c19d-48e4-f936-08d099db3bf0"
      },
      "execution_count": null,
      "outputs": [
        {
          "output_type": "execute_result",
          "data": {
            "text/plain": [
              "<matplotlib.axes._subplots.AxesSubplot at 0x7fdf0895c990>"
            ]
          },
          "metadata": {},
          "execution_count": 19
        },
        {
          "output_type": "display_data",
          "data": {
            "text/plain": [
              "<Figure size 576x432 with 1 Axes>"
            ],
            "image/png": "[encoded data removed]"
          },
          "metadata": {
            "needs_background": "light"
          }
        }
      ]
    },
    {
      "cell_type": "markdown",
      "source": [
        "**INSIGHTS:-**We can see Age group between 20 to 40 having more subscriptions to insurance ."
      ],
      "metadata": {
        "id": "NREIkLPp_7vu"
      }
    },
    {
      "cell_type": "code",
      "source": [
        "df1 = round(pd.crosstab(index=df['y'],columns = df[\"day\"], normalize = 'columns')*100)\n",
        "df1\n",
        "labels = df1.columns\n",
        "list1 = df1.iloc[0].to_list()\n",
        "list2 = df1.iloc[1].to_list()\n",
        "fig, ax = plt.subplots(figsize = (15,8))\n",
        "bar_width = 0.8\n",
        "ax.bar(labels,list1, bar_width, label = \"No\")\n",
        "ax.bar(labels,list2, bar_width, bottom = list1, label = \"Yes\")\n",
        "\n",
        "for p in ax.patches:\n",
        "    width, height = p.get_width(), p.get_height()\n",
        "    x, y = p.get_xy() \n",
        "    ax.text(x+width/2, \n",
        "            y+height/2, \n",
        "            '{:.0f}%'.format(height), \n",
        "            horizontalalignment='center', \n",
        "            verticalalignment='center',fontsize = 10)\n",
        "plt.xlabel(\"day\", size=20)    \n",
        "plt.title(\"day vs Target Variable\",size=30)\n",
        "plt.xticks(rotation=0, fontsize = 20)\n",
        "ax.legend(title = \"Categories\", bbox_to_anchor= (1.05,1), loc = 'lower right')\n",
        "plt.show()"
      ],
      "metadata": {
        "id": "ig3XapJO_6zj",
        "colab": {
          "base_uri": "https://localhost:8080/",
          "height": 548
        },
        "outputId": "fab9cf4a-e1d1-4d89-954a-caf4c1186cda"
      },
      "execution_count": null,
      "outputs": [
        {
          "output_type": "display_data",
          "data": {
            "text/plain": [
              "<Figure size 1080x576 with 1 Axes>"
            ],
            "image/png": "[encoded data removed]"
          },
          "metadata": {
            "needs_background": "light"
          }
        }
      ]
    },
    {
      "cell_type": "markdown",
      "source": [
        "INSIGHTS:- Month starting subscriptions are more."
      ],
      "metadata": {
        "id": "ymCSe9K5COlp"
      }
    },
    {
      "cell_type": "code",
      "source": [
        "fig, axes=plt.subplots(ncols=1,figsize=(20,5)) \n",
        "sns.scatterplot(x='dur', y = 'y', data=df)"
      ],
      "metadata": {
        "id": "LNq8yn90DJiy",
        "colab": {
          "base_uri": "https://localhost:8080/",
          "height": 273
        },
        "outputId": "96bac050-b981-4420-e95a-d9c9dcc6a5e3"
      },
      "execution_count": null,
      "outputs": [
        {
          "output_type": "execute_result",
          "data": {
            "text/plain": [
              "<matplotlib.axes._subplots.AxesSubplot at 0x7fdf05fd8050>"
            ]
          },
          "metadata": {},
          "execution_count": 21
        },
        {
          "output_type": "display_data",
          "data": {
            "text/plain": [
              "<Figure size 1440x360 with 1 Axes>"
            ],
            "image/png": "[encoded data removed]"
          },
          "metadata": {
            "needs_background": "light"
          }
        }
      ]
    },
    {
      "cell_type": "markdown",
      "source": [
        "INSIGHTS:-Most subscriptions are done when call duration less than 600 sec (i.e less than 10 mins)"
      ],
      "metadata": {
        "id": "K13YYuL4EVzG"
      }
    },
    {
      "cell_type": "code",
      "source": [
        "ig, axes=plt.subplots(ncols=2,figsize=(25,5)) \n",
        "sns.countplot(x='num_calls', ax=axes[0], data=df) \n",
        "sns.countplot(x='num_calls', hue='y', ax=axes[1], data=df)\n",
        "plt.figure(figsize=(8,6))\n",
        "sns.kdeplot(data=df, x=\"num_calls\",hue='y')"
      ],
      "metadata": {
        "id": "nC9iJFhxFxxS",
        "colab": {
          "base_uri": "https://localhost:8080/",
          "height": 598
        },
        "outputId": "c35204e4-52df-4946-f457-846838af1803"
      },
      "execution_count": null,
      "outputs": [
        {
          "output_type": "execute_result",
          "data": {
            "text/plain": [
              "<matplotlib.axes._subplots.AxesSubplot at 0x7fdf05d63c10>"
            ]
          },
          "metadata": {},
          "execution_count": 22
        },
        {
          "output_type": "display_data",
          "data": {
            "text/plain": [
              "<Figure size 1800x360 with 2 Axes>"
            ],
            "image/png": "[encoded data removed]"
          },
          "metadata": {
            "needs_background": "light"
          }
        },
        {
          "output_type": "display_data",
          "data": {
            "text/plain": [
              "<Figure size 576x432 with 1 Axes>"
            ],
            "image/png": "[encoded data removed]"
          },
          "metadata": {
            "needs_background": "light"
          }
        }
      ]
    },
    {
      "cell_type": "markdown",
      "source": [
        "INSIGHTS:-we can see if number of calls increases number of subscription decreasing."
      ],
      "metadata": {
        "id": "u-gfl_TCLpa6"
      }
    },
    {
      "cell_type": "markdown",
      "source": [
        "CATEGORICAL DATA"
      ],
      "metadata": {
        "id": "kE_WpaEQNVhD"
      }
    },
    {
      "cell_type": "code",
      "source": [
        "sns.catplot(data=df, x=\"job\",kind='count',hue='y')\n",
        "plt.xticks(rotation=90)\n",
        "\n",
        "df3 = round(pd.crosstab(index=df['y'],columns = df[\"job\"], normalize = 'columns')*100)\n",
        "\n",
        "labels = df3.columns\n",
        "list1 = df3.iloc[0].to_list()\n",
        "list2 = df3.iloc[1].to_list()\n",
        "fig, ax = plt.subplots(figsize = (15,6))\n",
        "bar_width = 0.5\n",
        "ax.bar(labels,list1, bar_width, label = \"Not Subscribed\")\n",
        "ax.bar(labels,list2, bar_width, bottom = list1, label = \"Subscribed\")\n",
        "\n",
        "for p in ax.patches:\n",
        "    width, height = p.get_width(), p.get_height()\n",
        "    x, y = p.get_xy() \n",
        "    ax.text(x+width/2, \n",
        "            y+height/2, \n",
        "            '{:.0f}%'.format(height), \n",
        "            horizontalalignment='center', \n",
        "            verticalalignment='center')\n",
        "plt.xlabel(\"job\", size=15)\n",
        "  \n",
        "# Setting the title for the graph\n",
        "plt.title(\"job vs Target Variable\", size =20)\n",
        " \n",
        "plt.xticks(rotation=90)\n",
        "ax.legend(title = \"Categories\", bbox_to_anchor= (1.05,1), loc = 'lower right')\n",
        "plt.show()"
      ],
      "metadata": {
        "id": "hHnOgnB6mC6J",
        "colab": {
          "base_uri": "https://localhost:8080/",
          "height": 901
        },
        "outputId": "ff4ca64e-ea41-4e2e-b3d1-4d7b3c587dec"
      },
      "execution_count": null,
      "outputs": [
        {
          "output_type": "display_data",
          "data": {
            "text/plain": [
              "<Figure size 413.25x360 with 1 Axes>"
            ],
            "image/png": "[encoded data removed]"
          },
          "metadata": {
            "needs_background": "light"
          }
        },
        {
          "output_type": "display_data",
          "data": {
            "text/plain": [
              "<Figure size 1080x432 with 1 Axes>"
            ],
            "image/png": "[encoded data removed]"
          },
          "metadata": {
            "needs_background": "light"
          }
        }
      ]
    },
    {
      "cell_type": "markdown",
      "source": [
        "INSIGHTS:-\n",
        "1.Approching retired customers and students can improve the sales count of insurance policies.\n",
        "\n"
      ],
      "metadata": {
        "id": "tmwvItY6IOUJ"
      }
    },
    {
      "cell_type": "code",
      "source": [
        "sns.catplot(data=df, x=\"marital\",kind='count',hue='y')\n",
        "plt.xticks(rotation=90)\n",
        "\n",
        "df4 = round(pd.crosstab(index=df['y'],columns = df[\"marital\"], normalize = 'columns')*100)\n",
        "\n",
        "labels = df4.columns\n",
        "list1 = df4.iloc[0].to_list()\n",
        "list2 = df4.iloc[1].to_list()\n",
        "fig, ax = plt.subplots(figsize = (15,6))\n",
        "bar_width = 0.5\n",
        "ax.bar(labels,list1, bar_width, label = \"Not Subscribed\")\n",
        "ax.bar(labels,list2, bar_width, bottom = list1, label = \"Subscribed\")\n",
        "\n",
        "for p in ax.patches:\n",
        "    width, height = p.get_width(), p.get_height()\n",
        "    x, y = p.get_xy() \n",
        "    ax.text(x+width/2, \n",
        "            y+height/2, \n",
        "            '{:.0f}%'.format(height), \n",
        "            horizontalalignment='center', \n",
        "            verticalalignment='center')\n",
        "plt.xlabel(\"marital\", size=15)\n",
        "  \n",
        "# Setting the title for the graph\n",
        "plt.title(\"marital vs Target Variable\", size =20)\n",
        " \n",
        "plt.xticks(rotation=90)\n",
        "ax.legend(title = \"Categories\", bbox_to_anchor= (1.05,1), loc = 'lower right')\n",
        "plt.show()"
      ],
      "metadata": {
        "id": "DElLmqjyNkDT",
        "colab": {
          "base_uri": "https://localhost:8080/",
          "height": 847
        },
        "outputId": "d7aaec34-8c1e-4e6b-a265-4c62b978890a"
      },
      "execution_count": null,
      "outputs": [
        {
          "output_type": "display_data",
          "data": {
            "text/plain": [
              "<Figure size 413.25x360 with 1 Axes>"
            ],
            "image/png": "[encoded data removed]"
          },
          "metadata": {
            "needs_background": "light"
          }
        },
        {
          "output_type": "display_data",
          "data": {
            "text/plain": [
              "<Figure size 1080x432 with 1 Axes>"
            ],
            "image/png": "[encoded data removed]"
          },
          "metadata": {
            "needs_background": "light"
          }
        }
      ]
    },
    {
      "cell_type": "code",
      "source": [
        "sns.catplot(data=df, x=\"education_qual\",kind='count',hue='y')\n",
        "plt.xticks(rotation=90)\n",
        "\n",
        "df3 = round(pd.crosstab(index=df['y'],columns = df[\"education_qual\"], normalize = 'columns')*100)\n",
        "\n",
        "labels = df3.columns\n",
        "list1 = df3.iloc[0].to_list()\n",
        "list2 = df3.iloc[1].to_list()\n",
        "fig, ax = plt.subplots(figsize = (15,6))\n",
        "bar_width = 0.5\n",
        "ax.bar(labels,list1, bar_width, label = \"Not Subscribed\")\n",
        "ax.bar(labels,list2, bar_width, bottom = list1, label = \"Subscribed\")\n",
        "\n",
        "for p in ax.patches:\n",
        "    width, height = p.get_width(), p.get_height()\n",
        "    x, y = p.get_xy() \n",
        "    ax.text(x+width/2, \n",
        "            y+height/2, \n",
        "            '{:.0f}%'.format(height), \n",
        "            horizontalalignment='center', \n",
        "            verticalalignment='center')\n",
        "plt.xlabel(\"education_qual\", size=15)\n",
        "  \n",
        "# Setting the title for the graph\n",
        "plt.title(\"education_qual vs Target Variable\", size =20)\n",
        " \n",
        "plt.xticks(rotation=90)\n",
        "ax.legend(title = \"Categories\", bbox_to_anchor= (1.05,1), loc = 'lower right')\n",
        "plt.show()"
      ],
      "metadata": {
        "id": "X1aZ_fcQOKhC",
        "colab": {
          "base_uri": "https://localhost:8080/",
          "height": 866
        },
        "outputId": "20cc609a-7a68-4381-a8b1-86b25c1126cb"
      },
      "execution_count": null,
      "outputs": [
        {
          "output_type": "display_data",
          "data": {
            "text/plain": [
              "<Figure size 413.25x360 with 1 Axes>"
            ],
            "image/png": "[encoded data removed]"
          },
          "metadata": {
            "needs_background": "light"
          }
        },
        {
          "output_type": "display_data",
          "data": {
            "text/plain": [
              "<Figure size 1080x432 with 1 Axes>"
            ],
            "image/png": "[encoded data removed]"
          },
          "metadata": {
            "needs_background": "light"
          }
        }
      ]
    },
    {
      "cell_type": "code",
      "source": [
        "sns.catplot(data=df, x=\"education_qual\",kind='count',hue='y')\n",
        "plt.xticks(rotation=90)\n",
        "\n",
        "\n",
        "\n",
        "df3 = round(pd.crosstab(index=df['y'],columns = df[\"education_qual\"], normalize = 'columns')*100)\n",
        "\n",
        "labels = df3.columns\n",
        "list1 = df3.iloc[0].to_list()\n",
        "list2 = df3.iloc[1].to_list()\n",
        "fig, ax = plt.subplots(figsize = (15,6))\n",
        "bar_width = 0.5\n",
        "ax.bar(labels,list1, bar_width, label = \"Not Subscribed\")\n",
        "ax.bar(labels,list2, bar_width, bottom = list1, label = \"Subscribed\")\n",
        "\n",
        "for p in ax.patches:\n",
        "    width, height = p.get_width(), p.get_height()\n",
        "    x, y = p.get_xy() \n",
        "    ax.text(x+width/2, \n",
        "            y+height/2, \n",
        "            '{:.0f}%'.format(height), \n",
        "            horizontalalignment='center', \n",
        "            verticalalignment='center')\n",
        "plt.xlabel(\"education_qual\", size=15)\n",
        "  \n",
        "# Setting the title for the graph\n",
        "plt.title(\"education_qual vs Target Variable\", size =20)\n",
        " \n",
        "plt.xticks(rotation=90)\n",
        "ax.legend(title = \"Categories\", bbox_to_anchor= (1.05,1), loc = 'lower right')\n",
        "plt.show()"
      ],
      "metadata": {
        "id": "-X93hRuxPhrv",
        "colab": {
          "base_uri": "https://localhost:8080/",
          "height": 866
        },
        "outputId": "bcb43283-40c6-4698-beff-497cdda16d6f"
      },
      "execution_count": null,
      "outputs": [
        {
          "output_type": "display_data",
          "data": {
            "text/plain": [
              "<Figure size 413.25x360 with 1 Axes>"
            ],
            "image/png": "[encoded data removed]"
          },
          "metadata": {
            "needs_background": "light"
          }
        },
        {
          "output_type": "display_data",
          "data": {
            "text/plain": [
              "<Figure size 1080x432 with 1 Axes>"
            ],
            "image/png": "[encoded data removed]"
          },
          "metadata": {
            "needs_background": "light"
          }
        }
      ]
    },
    {
      "cell_type": "markdown",
      "source": [
        "INSIGHTS:-Customers who having education level more are aware of insurance policies and thier importance.So higher the educational level more chances of convincing them to subcribe for insurance policy. "
      ],
      "metadata": {
        "id": "emRLHTDdEGXe"
      }
    },
    {
      "cell_type": "code",
      "source": [
        "sns.catplot(data=df, x=\"call_type\",kind='count',hue='y')\n",
        "plt.xticks(rotation=90)\n",
        "\n",
        "df5 = round(pd.crosstab(index=df['y'],columns = df[\"call_type\"], normalize = 'columns')*100)\n",
        "\n",
        "labels = df5.columns\n",
        "list1 = df5.iloc[0].to_list()\n",
        "list2 = df5.iloc[1].to_list()\n",
        "fig, ax = plt.subplots(figsize = (15,6))\n",
        "bar_width = 0.5\n",
        "ax.bar(labels,list1, bar_width, label = \"Not Subscribed\")\n",
        "ax.bar(labels,list2, bar_width, bottom = list1, label = \"Subscribed\")\n",
        "\n",
        "for p in ax.patches:\n",
        "    width, height = p.get_width(), p.get_height()\n",
        "    x, y = p.get_xy() \n",
        "    ax.text(x+width/2, \n",
        "            y+height/2, \n",
        "            '{:.0f}%'.format(height), \n",
        "            horizontalalignment='center', \n",
        "            verticalalignment='center')\n",
        "plt.xlabel(\"call_type\", size=15)\n",
        "  \n",
        "# Setting the title for the graph\n",
        "plt.title(\"call_type vs Target Variable\", size =20)\n",
        " \n",
        "plt.xticks(rotation=90)\n",
        "ax.legend(title = \"Categories\", bbox_to_anchor= (1.05,1), loc = 'lower right')\n",
        "plt.show()"
      ],
      "metadata": {
        "id": "2YJ6LChSPZyP",
        "colab": {
          "base_uri": "https://localhost:8080/",
          "height": 862
        },
        "outputId": "577eecc3-3cf0-46be-d127-b58f9cf9767a"
      },
      "execution_count": null,
      "outputs": [
        {
          "output_type": "display_data",
          "data": {
            "text/plain": [
              "<Figure size 413.25x360 with 1 Axes>"
            ],
            "image/png": "[encoded data removed]"
          },
          "metadata": {
            "needs_background": "light"
          }
        },
        {
          "output_type": "display_data",
          "data": {
            "text/plain": [
              "<Figure size 1080x432 with 1 Axes>"
            ],
            "image/png": "[encoded data removed]"
          },
          "metadata": {
            "needs_background": "light"
          }
        }
      ]
    },
    {
      "cell_type": "markdown",
      "source": [
        "INSIGHTS:-People who uses cellular phone having more chances of making them to subscribe for the insurance policy as compared to other types."
      ],
      "metadata": {
        "id": "WJzmebiiH7T_"
      }
    },
    {
      "cell_type": "code",
      "source": [
        "df['call_type'].unique()"
      ],
      "metadata": {
        "id": "IH9rNNjJeTW5",
        "colab": {
          "base_uri": "https://localhost:8080/"
        },
        "outputId": "1d18d950-3bd1-4fb7-a1a1-a0e992e6ef45"
      },
      "execution_count": null,
      "outputs": [
        {
          "output_type": "execute_result",
          "data": {
            "text/plain": [
              "array(['unknown', 'cellular', 'telephone'], dtype=object)"
            ]
          },
          "metadata": {},
          "execution_count": 28
        }
      ]
    },
    {
      "cell_type": "code",
      "source": [
        "default_by_group_7 = round(pd.crosstab(index=df['y'],columns = df[\"prev_outcome\"], normalize = 'columns')*100)\n",
        "default_by_group_7\n",
        "\n",
        "labels = default_by_group_7.columns\n",
        "list1 = default_by_group_7.iloc[0].to_list()\n",
        "list2 = default_by_group_7.iloc[1].to_list()\n",
        "fig, ax = plt.subplots(figsize = (15,6))\n",
        "bar_width = 0.5\n",
        "ax.bar(labels,list1, bar_width, label = \"Not Subscribed\")\n",
        "ax.bar(labels,list2, bar_width, bottom = list1, label = \"Subscribed\")\n",
        "\n",
        "for p in ax.patches:\n",
        "    width, height = p.get_width(), p.get_height()\n",
        "    x, y = p.get_xy() \n",
        "    ax.text(x+width/2, \n",
        "            y+height/2, \n",
        "            '{:.2f}'.format(height), \n",
        "            horizontalalignment='center', \n",
        "            verticalalignment='center',fontsize = 20)\n",
        "plt.xlabel(\"prev_outcome\", size=15)    \n",
        "plt.title(\"prev_outcome vs Target Variable\",fontsize=20)\n",
        "plt.xticks(rotation=0, fontsize = 15)\n",
        "ax.legend(title = \"Categories\", bbox_to_anchor= (1.05,1), loc = 'lower right')\n",
        "plt.show()"
      ],
      "metadata": {
        "id": "tB8yZ_F3uFQD",
        "colab": {
          "base_uri": "https://localhost:8080/",
          "height": 436
        },
        "outputId": "087cdebb-7d1b-41c0-b46c-7ce0ff2f7777"
      },
      "execution_count": null,
      "outputs": [
        {
          "output_type": "display_data",
          "data": {
            "text/plain": [
              "<Figure size 1080x432 with 1 Axes>"
            ],
            "image/png": "[encoded data removed]"
          },
          "metadata": {
            "needs_background": "light"
          }
        }
      ]
    },
    {
      "cell_type": "markdown",
      "source": [
        "INSIGHTS:-When the prev_outcome is success, there are more subscriptions"
      ],
      "metadata": {
        "id": "hSeFP-KmJ_nT"
      }
    },
    {
      "cell_type": "markdown",
      "source": [
        "#**Encoding**"
      ],
      "metadata": {
        "id": "lk09yu-CMU-4"
      }
    },
    {
      "cell_type": "markdown",
      "source": [
        "onehot encoding"
      ],
      "metadata": {
        "id": "VA-tJ594MrTz"
      }
    },
    {
      "cell_type": "code",
      "source": [
        "df=pd.get_dummies(df, columns=['job','marital','education_qual','call_type','mon','prev_outcome'])"
      ],
      "metadata": {
        "id": "LJqtC45HMyYO"
      },
      "execution_count": null,
      "outputs": []
    },
    {
      "cell_type": "code",
      "source": [
        "df.head()"
      ],
      "metadata": {
        "id": "kxC95cEHNEX2",
        "colab": {
          "base_uri": "https://localhost:8080/",
          "height": 317
        },
        "outputId": "6316ea0f-2994-4fd5-bf7e-c2c896b2045c"
      },
      "execution_count": null,
      "outputs": [
        {
          "output_type": "execute_result",
          "data": {
            "text/plain": [
              "    age  day    dur  num_calls   y  job_admin.  job_blue-collar  \\\n",
              "0  58.0    5  261.0        1.0  no           0                0   \n",
              "1  44.0    5  151.0        1.0  no           0                0   \n",
              "2  33.0    5   76.0        1.0  no           0                0   \n",
              "3  47.0    5   92.0        1.0  no           0                1   \n",
              "4  33.0    5  198.0        1.0  no           0                0   \n",
              "\n",
              "   job_entrepreneur  job_housemaid  job_management  ...  mon_jun  mon_mar  \\\n",
              "0                 0              0               1  ...        0        0   \n",
              "1                 0              0               0  ...        0        0   \n",
              "2                 1              0               0  ...        0        0   \n",
              "3                 0              0               0  ...        0        0   \n",
              "4                 0              0               0  ...        0        0   \n",
              "\n",
              "   mon_may  mon_nov  mon_oct  mon_sep  prev_outcome_failure  \\\n",
              "0        1        0        0        0                     0   \n",
              "1        1        0        0        0                     0   \n",
              "2        1        0        0        0                     0   \n",
              "3        1        0        0        0                     0   \n",
              "4        1        0        0        0                     0   \n",
              "\n",
              "   prev_outcome_other  prev_outcome_success  prev_outcome_unknown  \n",
              "0                   0                     0                     1  \n",
              "1                   0                     0                     1  \n",
              "2                   0                     0                     1  \n",
              "3                   0                     0                     1  \n",
              "4                   0                     0                     1  \n",
              "\n",
              "[5 rows x 43 columns]"
            ],
            "text/html": [
              "\n",
              "  <div id=\"df-6148e7fb-07aa-4fac-8f16-b6079ab6c5ec\">\n",
              "    <div class=\"colab-df-container\">\n",
              "      <div>\n",
              "<style scoped>\n",
              "    .dataframe tbody tr th:only-of-type {\n",
              "        vertical-align: middle;\n",
              "    }\n",
              "\n",
              "    .dataframe tbody tr th {\n",
              "        vertical-align: top;\n",
              "    }\n",
              "\n",
              "    .dataframe thead th {\n",
              "        text-align: right;\n",
              "    }\n",
              "</style>\n",
              "<table border=\"1\" class=\"dataframe\">\n",
              "  <thead>\n",
              "    <tr style=\"text-align: right;\">\n",
              "      <th></th>\n",
              "      <th>age</th>\n",
              "      <th>day</th>\n",
              "      <th>dur</th>\n",
              "      <th>num_calls</th>\n",
              "      <th>y</th>\n",
              "      <th>job_admin.</th>\n",
              "      <th>job_blue-collar</th>\n",
              "      <th>job_entrepreneur</th>\n",
              "      <th>job_housemaid</th>\n",
              "      <th>job_management</th>\n",
              "      <th>...</th>\n",
              "      <th>mon_jun</th>\n",
              "      <th>mon_mar</th>\n",
              "      <th>mon_may</th>\n",
              "      <th>mon_nov</th>\n",
              "      <th>mon_oct</th>\n",
              "      <th>mon_sep</th>\n",
              "      <th>prev_outcome_failure</th>\n",
              "      <th>prev_outcome_other</th>\n",
              "      <th>prev_outcome_success</th>\n",
              "      <th>prev_outcome_unknown</th>\n",
              "    </tr>\n",
              "  </thead>\n",
              "  <tbody>\n",
              "    <tr>\n",
              "      <th>0</th>\n",
              "      <td>58.0</td>\n",
              "      <td>5</td>\n",
              "      <td>261.0</td>\n",
              "      <td>1.0</td>\n",
              "      <td>no</td>\n",
              "      <td>0</td>\n",
              "      <td>0</td>\n",
              "      <td>0</td>\n",
              "      <td>0</td>\n",
              "      <td>1</td>\n",
              "      <td>...</td>\n",
              "      <td>0</td>\n",
              "      <td>0</td>\n",
              "      <td>1</td>\n",
              "      <td>0</td>\n",
              "      <td>0</td>\n",
              "      <td>0</td>\n",
              "      <td>0</td>\n",
              "      <td>0</td>\n",
              "      <td>0</td>\n",
              "      <td>1</td>\n",
              "    </tr>\n",
              "    <tr>\n",
              "      <th>1</th>\n",
              "      <td>44.0</td>\n",
              "      <td>5</td>\n",
              "      <td>151.0</td>\n",
              "      <td>1.0</td>\n",
              "      <td>no</td>\n",
              "      <td>0</td>\n",
              "      <td>0</td>\n",
              "      <td>0</td>\n",
              "      <td>0</td>\n",
              "      <td>0</td>\n",
              "      <td>...</td>\n",
              "      <td>0</td>\n",
              "      <td>0</td>\n",
              "      <td>1</td>\n",
              "      <td>0</td>\n",
              "      <td>0</td>\n",
              "      <td>0</td>\n",
              "      <td>0</td>\n",
              "      <td>0</td>\n",
              "      <td>0</td>\n",
              "      <td>1</td>\n",
              "    </tr>\n",
              "    <tr>\n",
              "      <th>2</th>\n",
              "      <td>33.0</td>\n",
              "      <td>5</td>\n",
              "      <td>76.0</td>\n",
              "      <td>1.0</td>\n",
              "      <td>no</td>\n",
              "      <td>0</td>\n",
              "      <td>0</td>\n",
              "      <td>1</td>\n",
              "      <td>0</td>\n",
              "      <td>0</td>\n",
              "      <td>...</td>\n",
              "      <td>0</td>\n",
              "      <td>0</td>\n",
              "      <td>1</td>\n",
              "      <td>0</td>\n",
              "      <td>0</td>\n",
              "      <td>0</td>\n",
              "      <td>0</td>\n",
              "      <td>0</td>\n",
              "      <td>0</td>\n",
              "      <td>1</td>\n",
              "    </tr>\n",
              "    <tr>\n",
              "      <th>3</th>\n",
              "      <td>47.0</td>\n",
              "      <td>5</td>\n",
              "      <td>92.0</td>\n",
              "      <td>1.0</td>\n",
              "      <td>no</td>\n",
              "      <td>0</td>\n",
              "      <td>1</td>\n",
              "      <td>0</td>\n",
              "      <td>0</td>\n",
              "      <td>0</td>\n",
              "      <td>...</td>\n",
              "      <td>0</td>\n",
              "      <td>0</td>\n",
              "      <td>1</td>\n",
              "      <td>0</td>\n",
              "      <td>0</td>\n",
              "      <td>0</td>\n",
              "      <td>0</td>\n",
              "      <td>0</td>\n",
              "      <td>0</td>\n",
              "      <td>1</td>\n",
              "    </tr>\n",
              "    <tr>\n",
              "      <th>4</th>\n",
              "      <td>33.0</td>\n",
              "      <td>5</td>\n",
              "      <td>198.0</td>\n",
              "      <td>1.0</td>\n",
              "      <td>no</td>\n",
              "      <td>0</td>\n",
              "      <td>0</td>\n",
              "      <td>0</td>\n",
              "      <td>0</td>\n",
              "      <td>0</td>\n",
              "      <td>...</td>\n",
              "      <td>0</td>\n",
              "      <td>0</td>\n",
              "      <td>1</td>\n",
              "      <td>0</td>\n",
              "      <td>0</td>\n",
              "      <td>0</td>\n",
              "      <td>0</td>\n",
              "      <td>0</td>\n",
              "      <td>0</td>\n",
              "      <td>1</td>\n",
              "    </tr>\n",
              "  </tbody>\n",
              "</table>\n",
              "<p>5 rows × 43 columns</p>\n",
              "</div>\n",
              "      <button class=\"colab-df-convert\" onclick=\"convertToInteractive('df-6148e7fb-07aa-4fac-8f16-b6079ab6c5ec')\"\n",
              "              title=\"Convert this dataframe to an interactive table.\"\n",
              "              style=\"display:none;\">\n",
              "        \n",
              "  <svg xmlns=\"http://www.w3.org/2000/svg\" height=\"24px\"viewBox=\"0 0 24 24\"\n",
              "       width=\"24px\">\n",
              "    <path d=\"M0 0h24v24H0V0z\" fill=\"none\"/>\n",
              "    <path d=\"M18.56 5.44l.94 2.06.94-2.06 2.06-.94-2.06-.94-.94-2.06-.94 2.06-2.06.94zm-11 1L8.5 8.5l.94-2.06 2.06-.94-2.06-.94L8.5 2.5l-.94 2.06-2.06.94zm10 10l.94 2.06.94-2.06 2.06-.94-2.06-.94-.94-2.06-.94 2.06-2.06.94z\"/><path d=\"M17.41 7.96l-1.37-1.37c-.4-.4-.92-.59-1.43-.59-.52 0-1.04.2-1.43.59L10.3 9.45l-7.72 7.72c-.78.78-.78 2.05 0 2.83L4 21.41c.39.39.9.59 1.41.59.51 0 1.02-.2 1.41-.59l7.78-7.78 2.81-2.81c.8-.78.8-2.07 0-2.86zM5.41 20L4 18.59l7.72-7.72 1.47 1.35L5.41 20z\"/>\n",
              "  </svg>\n",
              "      </button>\n",
              "      \n",
              "  <style>\n",
              "    .colab-df-container {\n",
              "      display:flex;\n",
              "      flex-wrap:wrap;\n",
              "      gap: 12px;\n",
              "    }\n",
              "\n",
              "    .colab-df-convert {\n",
              "      background-color: #E8F0FE;\n",
              "      border: none;\n",
              "      border-radius: 50%;\n",
              "      cursor: pointer;\n",
              "      display: none;\n",
              "      fill: #1967D2;\n",
              "      height: 32px;\n",
              "      padding: 0 0 0 0;\n",
              "      width: 32px;\n",
              "    }\n",
              "\n",
              "    .colab-df-convert:hover {\n",
              "      background-color: #E2EBFA;\n",
              "      box-shadow: 0px 1px 2px rgba(60, 64, 67, 0.3), 0px 1px 3px 1px rgba(60, 64, 67, 0.15);\n",
              "      fill: #174EA6;\n",
              "    }\n",
              "\n",
              "    [theme=dark] .colab-df-convert {\n",
              "      background-color: #3B4455;\n",
              "      fill: #D2E3FC;\n",
              "    }\n",
              "\n",
              "    [theme=dark] .colab-df-convert:hover {\n",
              "      background-color: #434B5C;\n",
              "      box-shadow: 0px 1px 3px 1px rgba(0, 0, 0, 0.15);\n",
              "      filter: drop-shadow(0px 1px 2px rgba(0, 0, 0, 0.3));\n",
              "      fill: #FFFFFF;\n",
              "    }\n",
              "  </style>\n",
              "\n",
              "      <script>\n",
              "        const buttonEl =\n",
              "          document.querySelector('#df-6148e7fb-07aa-4fac-8f16-b6079ab6c5ec button.colab-df-convert');\n",
              "        buttonEl.style.display =\n",
              "          google.colab.kernel.accessAllowed ? 'block' : 'none';\n",
              "\n",
              "        async function convertToInteractive(key) {\n",
              "          const element = document.querySelector('#df-6148e7fb-07aa-4fac-8f16-b6079ab6c5ec');\n",
              "          const dataTable =\n",
              "            await google.colab.kernel.invokeFunction('convertToInteractive',\n",
              "                                                     [key], {});\n",
              "          if (!dataTable) return;\n",
              "\n",
              "          const docLinkHtml = 'Like what you see? Visit the ' +\n",
              "            '<a target=\"_blank\" href=https://colab.research.google.com/notebooks/data_table.ipynb>data table notebook</a>'\n",
              "            + ' to learn more about interactive tables.';\n",
              "          element.innerHTML = '';\n",
              "          dataTable['output_type'] = 'display_data';\n",
              "          await google.colab.output.renderOutput(dataTable, element);\n",
              "          const docLink = document.createElement('div');\n",
              "          docLink.innerHTML = docLinkHtml;\n",
              "          element.appendChild(docLink);\n",
              "        }\n",
              "      </script>\n",
              "    </div>\n",
              "  </div>\n",
              "  "
            ]
          },
          "metadata": {},
          "execution_count": 31
        }
      ]
    },
    {
      "cell_type": "markdown",
      "source": [
        "Label encoding"
      ],
      "metadata": {
        "id": "JOjrma7nNRXG"
      }
    },
    {
      "cell_type": "code",
      "source": [
        "df.y = df.y.map({'no': 0,'yes': 1})"
      ],
      "metadata": {
        "id": "1ezuYGPTNGKv"
      },
      "execution_count": null,
      "outputs": []
    },
    {
      "cell_type": "code",
      "source": [
        "df.head()"
      ],
      "metadata": {
        "id": "hPAHLFwONdvl",
        "colab": {
          "base_uri": "https://localhost:8080/",
          "height": 317
        },
        "outputId": "130576a5-3415-465c-9084-3e60d0d580c3"
      },
      "execution_count": null,
      "outputs": [
        {
          "output_type": "execute_result",
          "data": {
            "text/plain": [
              "    age  day    dur  num_calls  y  job_admin.  job_blue-collar  \\\n",
              "0  58.0    5  261.0        1.0  0           0                0   \n",
              "1  44.0    5  151.0        1.0  0           0                0   \n",
              "2  33.0    5   76.0        1.0  0           0                0   \n",
              "3  47.0    5   92.0        1.0  0           0                1   \n",
              "4  33.0    5  198.0        1.0  0           0                0   \n",
              "\n",
              "   job_entrepreneur  job_housemaid  job_management  ...  mon_jun  mon_mar  \\\n",
              "0                 0              0               1  ...        0        0   \n",
              "1                 0              0               0  ...        0        0   \n",
              "2                 1              0               0  ...        0        0   \n",
              "3                 0              0               0  ...        0        0   \n",
              "4                 0              0               0  ...        0        0   \n",
              "\n",
              "   mon_may  mon_nov  mon_oct  mon_sep  prev_outcome_failure  \\\n",
              "0        1        0        0        0                     0   \n",
              "1        1        0        0        0                     0   \n",
              "2        1        0        0        0                     0   \n",
              "3        1        0        0        0                     0   \n",
              "4        1        0        0        0                     0   \n",
              "\n",
              "   prev_outcome_other  prev_outcome_success  prev_outcome_unknown  \n",
              "0                   0                     0                     1  \n",
              "1                   0                     0                     1  \n",
              "2                   0                     0                     1  \n",
              "3                   0                     0                     1  \n",
              "4                   0                     0                     1  \n",
              "\n",
              "[5 rows x 43 columns]"
            ],
            "text/html": [
              "\n",
              "  <div id=\"df-1c0118ef-0e9d-4875-a9c8-54ab3e952ab5\">\n",
              "    <div class=\"colab-df-container\">\n",
              "      <div>\n",
              "<style scoped>\n",
              "    .dataframe tbody tr th:only-of-type {\n",
              "        vertical-align: middle;\n",
              "    }\n",
              "\n",
              "    .dataframe tbody tr th {\n",
              "        vertical-align: top;\n",
              "    }\n",
              "\n",
              "    .dataframe thead th {\n",
              "        text-align: right;\n",
              "    }\n",
              "</style>\n",
              "<table border=\"1\" class=\"dataframe\">\n",
              "  <thead>\n",
              "    <tr style=\"text-align: right;\">\n",
              "      <th></th>\n",
              "      <th>age</th>\n",
              "      <th>day</th>\n",
              "      <th>dur</th>\n",
              "      <th>num_calls</th>\n",
              "      <th>y</th>\n",
              "      <th>job_admin.</th>\n",
              "      <th>job_blue-collar</th>\n",
              "      <th>job_entrepreneur</th>\n",
              "      <th>job_housemaid</th>\n",
              "      <th>job_management</th>\n",
              "      <th>...</th>\n",
              "      <th>mon_jun</th>\n",
              "      <th>mon_mar</th>\n",
              "      <th>mon_may</th>\n",
              "      <th>mon_nov</th>\n",
              "      <th>mon_oct</th>\n",
              "      <th>mon_sep</th>\n",
              "      <th>prev_outcome_failure</th>\n",
              "      <th>prev_outcome_other</th>\n",
              "      <th>prev_outcome_success</th>\n",
              "      <th>prev_outcome_unknown</th>\n",
              "    </tr>\n",
              "  </thead>\n",
              "  <tbody>\n",
              "    <tr>\n",
              "      <th>0</th>\n",
              "      <td>58.0</td>\n",
              "      <td>5</td>\n",
              "      <td>261.0</td>\n",
              "      <td>1.0</td>\n",
              "      <td>0</td>\n",
              "      <td>0</td>\n",
              "      <td>0</td>\n",
              "      <td>0</td>\n",
              "      <td>0</td>\n",
              "      <td>1</td>\n",
              "      <td>...</td>\n",
              "      <td>0</td>\n",
              "      <td>0</td>\n",
              "      <td>1</td>\n",
              "      <td>0</td>\n",
              "      <td>0</td>\n",
              "      <td>0</td>\n",
              "      <td>0</td>\n",
              "      <td>0</td>\n",
              "      <td>0</td>\n",
              "      <td>1</td>\n",
              "    </tr>\n",
              "    <tr>\n",
              "      <th>1</th>\n",
              "      <td>44.0</td>\n",
              "      <td>5</td>\n",
              "      <td>151.0</td>\n",
              "      <td>1.0</td>\n",
              "      <td>0</td>\n",
              "      <td>0</td>\n",
              "      <td>0</td>\n",
              "      <td>0</td>\n",
              "      <td>0</td>\n",
              "      <td>0</td>\n",
              "      <td>...</td>\n",
              "      <td>0</td>\n",
              "      <td>0</td>\n",
              "      <td>1</td>\n",
              "      <td>0</td>\n",
              "      <td>0</td>\n",
              "      <td>0</td>\n",
              "      <td>0</td>\n",
              "      <td>0</td>\n",
              "      <td>0</td>\n",
              "      <td>1</td>\n",
              "    </tr>\n",
              "    <tr>\n",
              "      <th>2</th>\n",
              "      <td>33.0</td>\n",
              "      <td>5</td>\n",
              "      <td>76.0</td>\n",
              "      <td>1.0</td>\n",
              "      <td>0</td>\n",
              "      <td>0</td>\n",
              "      <td>0</td>\n",
              "      <td>1</td>\n",
              "      <td>0</td>\n",
              "      <td>0</td>\n",
              "      <td>...</td>\n",
              "      <td>0</td>\n",
              "      <td>0</td>\n",
              "      <td>1</td>\n",
              "      <td>0</td>\n",
              "      <td>0</td>\n",
              "      <td>0</td>\n",
              "      <td>0</td>\n",
              "      <td>0</td>\n",
              "      <td>0</td>\n",
              "      <td>1</td>\n",
              "    </tr>\n",
              "    <tr>\n",
              "      <th>3</th>\n",
              "      <td>47.0</td>\n",
              "      <td>5</td>\n",
              "      <td>92.0</td>\n",
              "      <td>1.0</td>\n",
              "      <td>0</td>\n",
              "      <td>0</td>\n",
              "      <td>1</td>\n",
              "      <td>0</td>\n",
              "      <td>0</td>\n",
              "      <td>0</td>\n",
              "      <td>...</td>\n",
              "      <td>0</td>\n",
              "      <td>0</td>\n",
              "      <td>1</td>\n",
              "      <td>0</td>\n",
              "      <td>0</td>\n",
              "      <td>0</td>\n",
              "      <td>0</td>\n",
              "      <td>0</td>\n",
              "      <td>0</td>\n",
              "      <td>1</td>\n",
              "    </tr>\n",
              "    <tr>\n",
              "      <th>4</th>\n",
              "      <td>33.0</td>\n",
              "      <td>5</td>\n",
              "      <td>198.0</td>\n",
              "      <td>1.0</td>\n",
              "      <td>0</td>\n",
              "      <td>0</td>\n",
              "      <td>0</td>\n",
              "      <td>0</td>\n",
              "      <td>0</td>\n",
              "      <td>0</td>\n",
              "      <td>...</td>\n",
              "      <td>0</td>\n",
              "      <td>0</td>\n",
              "      <td>1</td>\n",
              "      <td>0</td>\n",
              "      <td>0</td>\n",
              "      <td>0</td>\n",
              "      <td>0</td>\n",
              "      <td>0</td>\n",
              "      <td>0</td>\n",
              "      <td>1</td>\n",
              "    </tr>\n",
              "  </tbody>\n",
              "</table>\n",
              "<p>5 rows × 43 columns</p>\n",
              "</div>\n",
              "      <button class=\"colab-df-convert\" onclick=\"convertToInteractive('df-1c0118ef-0e9d-4875-a9c8-54ab3e952ab5')\"\n",
              "              title=\"Convert this dataframe to an interactive table.\"\n",
              "              style=\"display:none;\">\n",
              "        \n",
              "  <svg xmlns=\"http://www.w3.org/2000/svg\" height=\"24px\"viewBox=\"0 0 24 24\"\n",
              "       width=\"24px\">\n",
              "    <path d=\"M0 0h24v24H0V0z\" fill=\"none\"/>\n",
              "    <path d=\"M18.56 5.44l.94 2.06.94-2.06 2.06-.94-2.06-.94-.94-2.06-.94 2.06-2.06.94zm-11 1L8.5 8.5l.94-2.06 2.06-.94-2.06-.94L8.5 2.5l-.94 2.06-2.06.94zm10 10l.94 2.06.94-2.06 2.06-.94-2.06-.94-.94-2.06-.94 2.06-2.06.94z\"/><path d=\"M17.41 7.96l-1.37-1.37c-.4-.4-.92-.59-1.43-.59-.52 0-1.04.2-1.43.59L10.3 9.45l-7.72 7.72c-.78.78-.78 2.05 0 2.83L4 21.41c.39.39.9.59 1.41.59.51 0 1.02-.2 1.41-.59l7.78-7.78 2.81-2.81c.8-.78.8-2.07 0-2.86zM5.41 20L4 18.59l7.72-7.72 1.47 1.35L5.41 20z\"/>\n",
              "  </svg>\n",
              "      </button>\n",
              "      \n",
              "  <style>\n",
              "    .colab-df-container {\n",
              "      display:flex;\n",
              "      flex-wrap:wrap;\n",
              "      gap: 12px;\n",
              "    }\n",
              "\n",
              "    .colab-df-convert {\n",
              "      background-color: #E8F0FE;\n",
              "      border: none;\n",
              "      border-radius: 50%;\n",
              "      cursor: pointer;\n",
              "      display: none;\n",
              "      fill: #1967D2;\n",
              "      height: 32px;\n",
              "      padding: 0 0 0 0;\n",
              "      width: 32px;\n",
              "    }\n",
              "\n",
              "    .colab-df-convert:hover {\n",
              "      background-color: #E2EBFA;\n",
              "      box-shadow: 0px 1px 2px rgba(60, 64, 67, 0.3), 0px 1px 3px 1px rgba(60, 64, 67, 0.15);\n",
              "      fill: #174EA6;\n",
              "    }\n",
              "\n",
              "    [theme=dark] .colab-df-convert {\n",
              "      background-color: #3B4455;\n",
              "      fill: #D2E3FC;\n",
              "    }\n",
              "\n",
              "    [theme=dark] .colab-df-convert:hover {\n",
              "      background-color: #434B5C;\n",
              "      box-shadow: 0px 1px 3px 1px rgba(0, 0, 0, 0.15);\n",
              "      filter: drop-shadow(0px 1px 2px rgba(0, 0, 0, 0.3));\n",
              "      fill: #FFFFFF;\n",
              "    }\n",
              "  </style>\n",
              "\n",
              "      <script>\n",
              "        const buttonEl =\n",
              "          document.querySelector('#df-1c0118ef-0e9d-4875-a9c8-54ab3e952ab5 button.colab-df-convert');\n",
              "        buttonEl.style.display =\n",
              "          google.colab.kernel.accessAllowed ? 'block' : 'none';\n",
              "\n",
              "        async function convertToInteractive(key) {\n",
              "          const element = document.querySelector('#df-1c0118ef-0e9d-4875-a9c8-54ab3e952ab5');\n",
              "          const dataTable =\n",
              "            await google.colab.kernel.invokeFunction('convertToInteractive',\n",
              "                                                     [key], {});\n",
              "          if (!dataTable) return;\n",
              "\n",
              "          const docLinkHtml = 'Like what you see? Visit the ' +\n",
              "            '<a target=\"_blank\" href=https://colab.research.google.com/notebooks/data_table.ipynb>data table notebook</a>'\n",
              "            + ' to learn more about interactive tables.';\n",
              "          element.innerHTML = '';\n",
              "          dataTable['output_type'] = 'display_data';\n",
              "          await google.colab.output.renderOutput(dataTable, element);\n",
              "          const docLink = document.createElement('div');\n",
              "          docLink.innerHTML = docLinkHtml;\n",
              "          element.appendChild(docLink);\n",
              "        }\n",
              "      </script>\n",
              "    </div>\n",
              "  </div>\n",
              "  "
            ]
          },
          "metadata": {},
          "execution_count": 33
        }
      ]
    },
    {
      "cell_type": "markdown",
      "source": [
        "#**Splitting**"
      ],
      "metadata": {
        "id": "-VP7uDQpO7ZN"
      }
    },
    {
      "cell_type": "code",
      "source": [
        "X = df.drop('y',axis=1).values\n",
        "y = df['y'].values"
      ],
      "metadata": {
        "id": "UC19uxTAO69P"
      },
      "execution_count": null,
      "outputs": []
    },
    {
      "cell_type": "code",
      "source": [
        "from sklearn.model_selection import train_test_split\n",
        "X_train,X_test,y_train,y_test = train_test_split(X,y,test_size=0.25,random_state=0)"
      ],
      "metadata": {
        "id": "35R9ssbpcMSM"
      },
      "execution_count": null,
      "outputs": []
    },
    {
      "cell_type": "markdown",
      "source": [
        "Blancing the data"
      ],
      "metadata": {
        "id": "yYE-BRvzNuQm"
      }
    },
    {
      "cell_type": "code",
      "source": [
        "df.y.value_counts().plot(kind='pie',autopct='%1.1f%%')"
      ],
      "metadata": {
        "id": "za7wZI4aYS6J",
        "colab": {
          "base_uri": "https://localhost:8080/",
          "height": 265
        },
        "outputId": "bb6536ec-99b0-4a9e-cae7-6ea62040c85b"
      },
      "execution_count": null,
      "outputs": [
        {
          "output_type": "execute_result",
          "data": {
            "text/plain": [
              "<matplotlib.axes._subplots.AxesSubplot at 0x7fdf08e8c250>"
            ]
          },
          "metadata": {},
          "execution_count": 36
        },
        {
          "output_type": "display_data",
          "data": {
            "text/plain": [
              "<Figure size 432x288 with 1 Axes>"
            ],
            "image/png": "[encoded data removed]"
          },
          "metadata": {}
        }
      ]
    },
    {
      "cell_type": "code",
      "source": [
        "from imblearn.over_sampling import SMOTE\n",
        "smote=SMOTE()"
      ],
      "metadata": {
        "id": "yU4D_lW3Um0F"
      },
      "execution_count": null,
      "outputs": []
    },
    {
      "cell_type": "code",
      "source": [
        "x_smote, y_smote = smote.fit_resample(X,y)\n",
        "print('Original unbalanced dataset shape', len(df))\n",
        "print('Resampled balanced dataset shape', len(y_smote))\n",
        "balanced_df = pd.DataFrame(x_smote, columns=list(i for i in list(df.describe(include='all').columns) if i != 'y'))\n",
        "balanced_df['y'] = y_smote\n",
        "balanced_df.y.value_counts().plot(kind='pie',autopct='%1.1f%%')"
      ],
      "metadata": {
        "id": "JiqPENTIUrb0",
        "colab": {
          "base_uri": "https://localhost:8080/",
          "height": 300
        },
        "outputId": "8cabbeae-a92b-4345-f1ec-ab23831984b5"
      },
      "execution_count": null,
      "outputs": [
        {
          "output_type": "stream",
          "name": "stdout",
          "text": [
            "Original unbalanced dataset shape 45205\n",
            "Resampled balanced dataset shape 79832\n"
          ]
        },
        {
          "output_type": "execute_result",
          "data": {
            "text/plain": [
              "<matplotlib.axes._subplots.AxesSubplot at 0x7fdf0586df90>"
            ]
          },
          "metadata": {},
          "execution_count": 38
        },
        {
          "output_type": "display_data",
          "data": {
            "text/plain": [
              "<Figure size 432x288 with 1 Axes>"
            ],
            "image/png": "[encoded data removed]"
          },
          "metadata": {}
        }
      ]
    },
    {
      "cell_type": "code",
      "source": [
        "balanced_df.y.value_counts()"
      ],
      "metadata": {
        "colab": {
          "base_uri": "https://localhost:8080/"
        },
        "id": "ZfESQrs8XiwD",
        "outputId": "df9a5c31-f0c0-4bec-e226-168c1b02c2ed"
      },
      "execution_count": null,
      "outputs": [
        {
          "output_type": "execute_result",
          "data": {
            "text/plain": [
              "0    39916\n",
              "1    39916\n",
              "Name: y, dtype: int64"
            ]
          },
          "metadata": {},
          "execution_count": 39
        }
      ]
    },
    {
      "cell_type": "code",
      "source": [
        "X = balanced_df.drop(['y','prev_outcome_failure', 'prev_outcome_other', 'prev_outcome_success',\n",
        "       'prev_outcome_unknown'],axis=1)\n",
        "X.shape"
      ],
      "metadata": {
        "id": "3AJEn4DkZ2Tg",
        "colab": {
          "base_uri": "https://localhost:8080/"
        },
        "outputId": "b3d50da4-680b-4e82-aec1-75308a3cde9e"
      },
      "execution_count": null,
      "outputs": [
        {
          "output_type": "execute_result",
          "data": {
            "text/plain": [
              "(79832, 38)"
            ]
          },
          "metadata": {},
          "execution_count": 40
        }
      ]
    },
    {
      "cell_type": "markdown",
      "source": [
        "Logistic regresstion"
      ],
      "metadata": {
        "id": "ITCjlFcDaaXt"
      }
    },
    {
      "cell_type": "markdown",
      "source": [
        "model fitting"
      ],
      "metadata": {
        "id": "6UVFMLEJJBjE"
      }
    },
    {
      "cell_type": "code",
      "source": [
        "from sklearn.linear_model import LogisticRegression\n",
        "from sklearn.metrics import roc_auc_score\n",
        "\n",
        "lr = LogisticRegression()\n",
        "lr.fit(X_train,y_train)"
      ],
      "metadata": {
        "id": "R0fClmWlbgfE",
        "colab": {
          "base_uri": "https://localhost:8080/"
        },
        "outputId": "bff60d94-ab11-4fea-fd75-86707d0ea04d"
      },
      "execution_count": null,
      "outputs": [
        {
          "output_type": "execute_result",
          "data": {
            "text/plain": [
              "LogisticRegression()"
            ]
          },
          "metadata": {},
          "execution_count": 41
        }
      ]
    },
    {
      "cell_type": "code",
      "source": [
        "from sklearn.metrics import plot_roc_curve, roc_curve, roc_auc_score, confusion_matrix, f1_score\n",
        "lr.score(X_test,y_test)"
      ],
      "metadata": {
        "id": "jdXC_YXOeC0t",
        "colab": {
          "base_uri": "https://localhost:8080/"
        },
        "outputId": "a8587594-7c27-4c36-aad8-d2faa03542b4"
      },
      "execution_count": null,
      "outputs": [
        {
          "output_type": "execute_result",
          "data": {
            "text/plain": [
              "0.894708901079455"
            ]
          },
          "metadata": {},
          "execution_count": 42
        }
      ]
    },
    {
      "cell_type": "markdown",
      "source": [
        "KNN"
      ],
      "metadata": {
        "id": "gq3YFxFGN6cz"
      }
    },
    {
      "cell_type": "markdown",
      "source": [
        "scaling"
      ],
      "metadata": {
        "id": "lZd1InWnI5YO"
      }
    },
    {
      "cell_type": "code",
      "source": [
        "from sklearn.preprocessing import StandardScaler\n",
        "scaler = StandardScaler()\n",
        "X_train = scaler.fit_transform(X_train)\n",
        "X_test = scaler.transform(X_test)"
      ],
      "metadata": {
        "id": "lFoAsJr9fIEH"
      },
      "execution_count": null,
      "outputs": []
    },
    {
      "cell_type": "code",
      "source": [
        "from sklearn.neighbors import KNeighborsClassifier\n",
        "from sklearn.model_selection import cross_val_score\n",
        "for i in [1,2,3,4,5,6,7,8,9,10,20,50]:\n",
        "  knn = KNeighborsClassifier(i) #initialising the model\n",
        "  knn.fit(X_train,y_train) # training the model\n",
        "  print(\"K value  : \" , i, \" train score : \", knn.score(X_train,y_train) , \" score : \", np.mean(cross_val_score(knn, X_train, y_train, cv=10)))"
      ],
      "metadata": {
        "id": "lCqoHjm-N6AX",
        "colab": {
          "base_uri": "https://localhost:8080/"
        },
        "outputId": "464be97f-18f9-419f-f943-a9ca676d2752"
      },
      "execution_count": null,
      "outputs": [
        {
          "output_type": "stream",
          "name": "stdout",
          "text": [
            "K value  :  1  train score :  0.9999410081703684  score :  0.8694510455839639\n",
            "K value  :  2  train score :  0.9305666165236115  score :  0.8864406823893543\n",
            "K value  :  3  train score :  0.9325723387310857  score :  0.8853195818534051\n",
            "K value  :  4  train score :  0.917204967112055  score :  0.8905110438963455\n",
            "K value  :  5  train score :  0.9190337138306345  score :  0.8905404293335908\n",
            "K value  :  6  train score :  0.9103029230451583  score :  0.893106479149649\n",
            "K value  :  7  train score :  0.9130165472082117  score :  0.8931064878487129\n",
            "K value  :  8  train score :  0.9076777866265522  score :  0.8935195541903825\n",
            "K value  :  9  train score :  0.9087101436451052  score :  0.8936374178047217\n",
            "K value  :  10  train score :  0.9050231542931304  score :  0.8932540848628461\n",
            "K value  :  20  train score :  0.89835707754476  score :  0.8930770763142762\n",
            "K value  :  50  train score :  0.8948175677668643  score :  0.8930180879631925\n"
          ]
        }
      ]
    },
    {
      "cell_type": "code",
      "source": [
        "knn = KNeighborsClassifier(9)\n",
        "knn.fit(X_train,y_train)\n",
        "knn.score(X_test,y_test)"
      ],
      "metadata": {
        "id": "UlvlBD9GTkzN",
        "colab": {
          "base_uri": "https://localhost:8080/"
        },
        "outputId": "12e736b3-4291-4dbd-945c-7a9553628e09"
      },
      "execution_count": null,
      "outputs": [
        {
          "output_type": "execute_result",
          "data": {
            "text/plain": [
              "0.8942665015041585"
            ]
          },
          "metadata": {},
          "execution_count": 45
        }
      ]
    },
    {
      "cell_type": "markdown",
      "source": [
        "Decision Tree Fitting"
      ],
      "metadata": {
        "id": "ou0Cq_jyUMiG"
      }
    },
    {
      "cell_type": "code",
      "source": [
        "from sklearn.tree import DecisionTreeClassifier\n",
        "\n",
        "dt = DecisionTreeClassifier(max_depth = 5)\n",
        "dt.fit(X_train, y_train)"
      ],
      "metadata": {
        "id": "A_0NgfWXUNPq",
        "colab": {
          "base_uri": "https://localhost:8080/"
        },
        "outputId": "5f0bdb58-e4d8-4950-e543-56d3770ece70"
      },
      "execution_count": null,
      "outputs": [
        {
          "output_type": "execute_result",
          "data": {
            "text/plain": [
              "DecisionTreeClassifier(max_depth=5)"
            ]
          },
          "metadata": {},
          "execution_count": 46
        }
      ]
    },
    {
      "cell_type": "code",
      "source": [
        "y_pred = dt.predict(X_test)\n",
        "y_pred"
      ],
      "metadata": {
        "colab": {
          "base_uri": "https://localhost:8080/"
        },
        "id": "NcMJweNChcCI",
        "outputId": "46bcc562-1004-43f8-aac3-ceaa430175be"
      },
      "execution_count": null,
      "outputs": [
        {
          "output_type": "execute_result",
          "data": {
            "text/plain": [
              "array([0, 0, 0, ..., 0, 0, 1])"
            ]
          },
          "metadata": {},
          "execution_count": 47
        }
      ]
    },
    {
      "cell_type": "code",
      "source": [
        "roc_auc_score(y_test, dt.predict_proba(X_test)[:, 1])"
      ],
      "metadata": {
        "colab": {
          "base_uri": "https://localhost:8080/"
        },
        "id": "4LcK_i9hh6ti",
        "outputId": "3727bb2d-756a-4a2d-e347-31010d92f835"
      },
      "execution_count": null,
      "outputs": [
        {
          "output_type": "execute_result",
          "data": {
            "text/plain": [
              "0.8584575165461755"
            ]
          },
          "metadata": {},
          "execution_count": 48
        }
      ]
    },
    {
      "cell_type": "code",
      "source": [
        "plot_roc_curve(dt, X_test, y_test)"
      ],
      "metadata": {
        "colab": {
          "base_uri": "https://localhost:8080/",
          "height": 296
        },
        "id": "a7WhxPKniFM4",
        "outputId": "2339d102-19e0-4cf2-db1a-0e1956a10a05"
      },
      "execution_count": null,
      "outputs": [
        {
          "output_type": "execute_result",
          "data": {
            "text/plain": [
              "<sklearn.metrics._plot.roc_curve.RocCurveDisplay at 0x7fdf05e76e90>"
            ]
          },
          "metadata": {},
          "execution_count": 49
        },
        {
          "output_type": "display_data",
          "data": {
            "text/plain": [
              "<Figure size 432x288 with 1 Axes>"
            ],
            "image/png": "[encoded data removed]"
          },
          "metadata": {
            "needs_background": "light"
          }
        }
      ]
    },
    {
      "cell_type": "markdown",
      "source": [
        "RANDOM FOREST"
      ],
      "metadata": {
        "id": "WgKsqOMfVcQL"
      }
    },
    {
      "cell_type": "code",
      "source": [
        "from sklearn.ensemble import RandomForestClassifier\n",
        "rf = RandomForestClassifier(n_estimators= 100, max_depth = 5, max_features='sqrt')\n",
        "rf.fit(X_train, y_train)\n",
        "predictions = rf.predict(X_test)\n",
        "acc1 = roc_auc_score(y_test, predictions)\n",
        "print(\"Test set auc: {:.2f}\".format(acc1))"
      ],
      "metadata": {
        "id": "0hFvOnGgVbUR",
        "colab": {
          "base_uri": "https://localhost:8080/"
        },
        "outputId": "a28f3fd9-9ddb-4f83-bfe0-a44b6d6a07d8"
      },
      "execution_count": null,
      "outputs": [
        {
          "output_type": "stream",
          "name": "stdout",
          "text": [
            "Test set auc: 0.56\n"
          ]
        }
      ]
    },
    {
      "cell_type": "code",
      "source": [
        "roc_auc_score(y_test, rf.predict_proba(X_test)[:, 1])"
      ],
      "metadata": {
        "colab": {
          "base_uri": "https://localhost:8080/"
        },
        "id": "cVIGoV7kbx4H",
        "outputId": "41fbdf0a-9c83-4d82-f26d-d7f82c7edba8"
      },
      "execution_count": null,
      "outputs": [
        {
          "output_type": "execute_result",
          "data": {
            "text/plain": [
              "0.9040124170060826"
            ]
          },
          "metadata": {},
          "execution_count": 51
        }
      ]
    },
    {
      "cell_type": "code",
      "source": [
        "plot_roc_curve(rf, X_test, y_test)"
      ],
      "metadata": {
        "colab": {
          "base_uri": "https://localhost:8080/",
          "height": 296
        },
        "id": "rqqKbvFGiMs0",
        "outputId": "5a326107-2500-49de-a500-61d6c34d9ed8"
      },
      "execution_count": null,
      "outputs": [
        {
          "output_type": "execute_result",
          "data": {
            "text/plain": [
              "<sklearn.metrics._plot.roc_curve.RocCurveDisplay at 0x7fdf05dc2a50>"
            ]
          },
          "metadata": {},
          "execution_count": 52
        },
        {
          "output_type": "display_data",
          "data": {
            "text/plain": [
              "<Figure size 432x288 with 1 Axes>"
            ],
            "image/png": "[encoded data removed]"
          },
          "metadata": {
            "needs_background": "light"
          }
        }
      ]
    },
    {
      "cell_type": "markdown",
      "source": [
        "XG BOOST"
      ],
      "metadata": {
        "id": "LRQ7hF_EYEtF"
      }
    },
    {
      "cell_type": "code",
      "source": [
        "import xgboost as xgb\n",
        "from sklearn.model_selection import cross_val_score\n",
        "import numpy as np\n",
        "for lr in [0.01,0.02,0.03,0.04,0.05,0.06,0.07,0.08,0.09,0.1,0.11,0.12,0.13,0.14,0.15,0.2,0.5,0.7,1]:\n",
        "  model = xgb.XGBClassifier(learning_rate = lr, n_estimators=100, verbosity = 0) # initialise the model\n",
        "  model.fit(X_train,y_train) #train the model\n",
        "  model.score(X_test, y_test) \n",
        "  print(\"Learning rate : \", lr, \" Train score : \", model.score(X_train,y_train), \" Cross-Val score : \", np.mean(cross_val_score(model, X_train, y_train, cv=10)))"
      ],
      "metadata": {
        "id": "eqfVuoq9YATz",
        "colab": {
          "base_uri": "https://localhost:8080/"
        },
        "outputId": "455685ff-c1d4-488f-81b4-c48fd838cff2"
      },
      "execution_count": null,
      "outputs": [
        {
          "output_type": "stream",
          "name": "stdout",
          "text": [
            "Learning rate :  0.01  Train score :  0.900274312007787  Cross-Val score :  0.8988290625280001\n",
            "Learning rate :  0.02  Train score :  0.9006282629855765  Cross-Val score :  0.8982094369183045\n",
            "Learning rate :  0.03  Train score :  0.8978556469928914  Cross-Val score :  0.8975015419090443\n",
            "Learning rate :  0.04  Train score :  0.8996548977966552  Cross-Val score :  0.8976196316990401\n",
            "Learning rate :  0.05  Train score :  0.901424652685603  Cross-Val score :  0.8993600272802637\n",
            "Learning rate :  0.06  Train score :  0.9025454974486034  Cross-Val score :  0.9003038582957317\n",
            "Learning rate :  0.07  Train score :  0.9036368462967879  Cross-Val score :  0.9011002314820857\n",
            "Learning rate :  0.08  Train score :  0.9051706338672094  Cross-Val score :  0.902014555273416\n",
            "Learning rate :  0.09  Train score :  0.9057605521635254  Cross-Val score :  0.9026339721055822\n",
            "Learning rate :  0.1  Train score :  0.9072943397339468  Cross-Val score :  0.9039612926460723\n",
            "Learning rate :  0.11  Train score :  0.9077367784561838  Cross-Val score :  0.90469869487947\n",
            "Learning rate :  0.12  Train score :  0.9093590537710527  Cross-Val score :  0.9047871730565639\n",
            "Learning rate :  0.13  Train score :  0.9088281273043683  Cross-Val score :  0.9049051410596677\n",
            "Learning rate :  0.14  Train score :  0.9107158658525795  Cross-Val score :  0.905878479299273\n",
            "Learning rate :  0.15  Train score :  0.9110993127451847  Cross-Val score :  0.9054950593667603\n",
            "Learning rate :  0.2  Train score :  0.9128690676341327  Cross-Val score :  0.9058785314936554\n",
            "Learning rate :  0.5  Train score :  0.9191222015750818  Cross-Val score :  0.9060259458274507\n",
            "Learning rate :  0.7  Train score :  0.9224257440344512  Cross-Val score :  0.906025902332132\n",
            "Learning rate :  1  Train score :  0.9253458396012152  Cross-Val score :  0.9026338764158816\n"
          ]
        }
      ]
    },
    {
      "cell_type": "code",
      "source": [
        "model = xgb.XGBClassifier(learning_rate = 0.5, n_estimators=100)\n",
        "model.fit(X_train,y_train) #train the model\n",
        "model.score(X_test, y_test)"
      ],
      "metadata": {
        "id": "3zwNinnPchVv",
        "colab": {
          "base_uri": "https://localhost:8080/"
        },
        "outputId": "33c31e08-050c-4ab6-f49b-33d5506dc714"
      },
      "execution_count": null,
      "outputs": [
        {
          "output_type": "execute_result",
          "data": {
            "text/plain": [
              "0.9032914528402053"
            ]
          },
          "metadata": {},
          "execution_count": 54
        }
      ]
    },
    {
      "cell_type": "code",
      "source": [
        "from sklearn.feature_selection import RFE\n",
        "estimator = RandomForestClassifier()\n",
        "selector = RFE(estimator, n_features_to_select=3, step=1)\n",
        "selector = selector.fit(X_train, y_train)\n",
        "list(zip(['age', 'day', 'dur', 'num_calls', 'y', 'job_admin.', 'job_blue-collar',\n",
        "       'job_entrepreneur', 'job_housemaid', 'job_management', 'job_retired',\n",
        "       'job_self-employed', 'job_services', 'job_student', 'job_technician',\n",
        "       'job_unemployed', 'job_unknown', 'marital_divorced', 'marital_married',\n",
        "       'marital_single', 'education_qual_primary', 'education_qual_secondary',\n",
        "       'education_qual_tertiary', 'education_qual_unknown',\n",
        "       'call_type_cellular', 'call_type_telephone', 'call_type_unknown',\n",
        "       'mon_apr', 'mon_aug', 'mon_dec', 'mon_feb', 'mon_jan', 'mon_jul',\n",
        "       'mon_jun', 'mon_mar', 'mon_may', 'mon_nov', 'mon_oct', 'mon_sep',\n",
        "       'prev_outcome_failure', 'prev_outcome_other', 'prev_outcome_success',\n",
        "       'prev_outcome_unknown'],selector.support_))"
      ],
      "metadata": {
        "colab": {
          "base_uri": "https://localhost:8080/"
        },
        "id": "SG3AUB9qzbXY",
        "outputId": "7ac3f01e-78c8-49d3-ac14-2538ba995db5"
      },
      "execution_count": null,
      "outputs": [
        {
          "output_type": "execute_result",
          "data": {
            "text/plain": [
              "[('age', True),\n",
              " ('day', True),\n",
              " ('dur', True),\n",
              " ('num_calls', False),\n",
              " ('y', False),\n",
              " ('job_admin.', False),\n",
              " ('job_blue-collar', False),\n",
              " ('job_entrepreneur', False),\n",
              " ('job_housemaid', False),\n",
              " ('job_management', False),\n",
              " ('job_retired', False),\n",
              " ('job_self-employed', False),\n",
              " ('job_services', False),\n",
              " ('job_student', False),\n",
              " ('job_technician', False),\n",
              " ('job_unemployed', False),\n",
              " ('job_unknown', False),\n",
              " ('marital_divorced', False),\n",
              " ('marital_married', False),\n",
              " ('marital_single', False),\n",
              " ('education_qual_primary', False),\n",
              " ('education_qual_secondary', False),\n",
              " ('education_qual_tertiary', False),\n",
              " ('education_qual_unknown', False),\n",
              " ('call_type_cellular', False),\n",
              " ('call_type_telephone', False),\n",
              " ('call_type_unknown', False),\n",
              " ('mon_apr', False),\n",
              " ('mon_aug', False),\n",
              " ('mon_dec', False),\n",
              " ('mon_feb', False),\n",
              " ('mon_jan', False),\n",
              " ('mon_jul', False),\n",
              " ('mon_jun', False),\n",
              " ('mon_mar', False),\n",
              " ('mon_may', False),\n",
              " ('mon_nov', False),\n",
              " ('mon_oct', False),\n",
              " ('mon_sep', False),\n",
              " ('prev_outcome_failure', False),\n",
              " ('prev_outcome_other', False),\n",
              " ('prev_outcome_success', False)]"
            ]
          },
          "metadata": {},
          "execution_count": 61
        }
      ]
    },
    {
      "cell_type": "markdown",
      "source": [
        "**Important Features**\n",
        "\n",
        "-> Age\n",
        "\n",
        "\n",
        "-> Day\n",
        "\n",
        "\n",
        "-> Dur"
      ],
      "metadata": {
        "id": "OvaksbGXcc4K"
      }
    },
    {
      "cell_type": "markdown",
      "source": [
        "**CONCLUSION**"
      ],
      "metadata": {
        "id": "ecrFgMX_fCY2"
      }
    },
    {
      "cell_type": "markdown",
      "source": [
        "**Logistic Regression -**  **0.89**\n",
        "\n",
        "   **K Nearest Neighbours -**  **0.89**\n",
        "\n",
        "   **Decision Tree -**  **0.86**\n",
        "\n",
        "   **Random Forest -**   **0.91**\n",
        "\n",
        "   **XG Boost -**   **0.90**"
      ],
      "metadata": {
        "id": "g5h_KCWhfHkC"
      }
    },
    {
      "cell_type": "markdown",
      "source": [
        " The best Machine Learning algorithm for Customer conversion Prediction is **RANDOM FOREST** Model"
      ],
      "metadata": {
        "id": "rm5v1mltiqaK"
      }
    }
  ]
}